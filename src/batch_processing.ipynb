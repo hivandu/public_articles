{
 "cells": [
  {
   "cell_type": "markdown",
   "metadata": {},
   "source": [
    "# 使用 pandas 批量处理交易数据"
   ]
  },
  {
   "cell_type": "code",
   "execution_count": 2,
   "metadata": {},
   "outputs": [],
   "source": [
    "import numpy as np\n",
    "import pandas as pd\n",
    "import matplotlib.pyplot as plt\n",
    "plt.style.use('default')\n",
    "\n",
    "import datetime\n",
    "\n",
    "import os\n",
    "\n",
    "dp = os.environ.get('pub_data')"
   ]
  },
  {
   "cell_type": "code",
   "execution_count": null,
   "metadata": {},
   "outputs": [],
   "source": [
    "# Gives an error\n",
    "df = pd.read_csv(dp + 'transactions.csv')"
   ]
  },
  {
   "cell_type": "code",
   "execution_count": 8,
   "metadata": {},
   "outputs": [
    {
     "name": "stdout",
     "output_type": "stream",
     "text": [
      "CPU times: user 5.86 ms, sys: 3.56 ms, total: 9.42 ms\n",
      "Wall time: 8.56 ms\n"
     ]
    }
   ],
   "source": [
    "%%time\n",
    "\n",
    "names = ['CUST_ID', 'START_DATE', 'END_DATE', 'TRANS_ID', 'DATE', 'YEAR', 'MONTH', 'DAY', 'EXP_TYPE', 'AMOUNT']\n",
    "\n",
    "# Load rows 1001 to 3000\n",
    "df = pd.read_csv(dp + 'transactions.csv',\n",
    "                 skiprows=1000,\n",
    "                 nrows=2000,\n",
    "                 names=names)"
   ]
  },
  {
   "cell_type": "code",
   "execution_count": 9,
   "metadata": {},
   "outputs": [],
   "source": [
    "def get_rows(steps, count, names, path=dp+'transactions.csv'):\n",
    "    \n",
    "    \"\"\"\n",
    "    Returns a subset of rows from a CSV. The fist [steps]*[count] \n",
    "    rows are skipped and the next [steps] rows are returned. \n",
    "    \n",
    "    params\n",
    "    ------------\n",
    "        steps: number of rows returned\n",
    "        count: count variable updated each iteration \n",
    "        names: columns names of dataset\n",
    "        path: location of csv\n",
    "    \"\"\"\n",
    "    \n",
    "    if count ==0:\n",
    "        df = pd.read_csv(path,\n",
    "                         nrows=steps)\n",
    "    else: \n",
    "        df = pd.read_csv(path,\n",
    "                         skiprows=steps*count,\n",
    "                         nrows=steps,\n",
    "                         names=names)\n",
    "    return df\n",
    "    "
   ]
  },
  {
   "cell_type": "markdown",
   "metadata": {},
   "source": [
    "### Total number of transactions"
   ]
  },
  {
   "cell_type": "code",
   "execution_count": 10,
   "metadata": {},
   "outputs": [
    {
     "name": "stderr",
     "output_type": "stream",
     "text": [
      "/var/folders/h4/7cr1cmpn7v5b3x20_9wz8m740000gn/T/ipykernel_28947/1479968977.py:19: DtypeWarning: Columns (2) have mixed types. Specify dtype option on import or set low_memory=False.\n",
      "  df = pd.read_csv(path,\n",
      "/var/folders/h4/7cr1cmpn7v5b3x20_9wz8m740000gn/T/ipykernel_28947/1479968977.py:19: DtypeWarning: Columns (2) have mixed types. Specify dtype option on import or set low_memory=False.\n",
      "  df = pd.read_csv(path,\n",
      "/var/folders/h4/7cr1cmpn7v5b3x20_9wz8m740000gn/T/ipykernel_28947/1479968977.py:19: DtypeWarning: Columns (2) have mixed types. Specify dtype option on import or set low_memory=False.\n",
      "  df = pd.read_csv(path,\n"
     ]
    }
   ],
   "source": [
    "%%time\n",
    "\n",
    "steps = 5000000\n",
    "names = ['CUST_ID', 'START_DATE', 'END_DATE', 'TRANS_ID', 'DATE', 'YEAR', 'MONTH', 'DAY', 'EXP_TYPE', 'AMOUNT']\n",
    "\n",
    "# Initialise number of transactions\n",
    "n = 0\n",
    "\n",
    "# Initialise count\n",
    "count = 0\n",
    "while True:\n",
    "    \n",
    "    # Return subsection of dataset\n",
    "    df = get_rows(steps,count,names)\n",
    "    \n",
    "    # Update number of transactions\n",
    "    n+=len(df)\n",
    "    \n",
    "    # Update count\n",
    "    count+=1\n",
    "    \n",
    "    # Exit loop\n",
    "    if len(df)!=steps:\n",
    "        break\n",
    "\n",
    "# Output number of rows\n",
    "print(n)  "
   ]
  },
  {
   "cell_type": "markdown",
   "metadata": {},
   "source": [
    "### Total yearly expediture "
   ]
  },
  {
   "cell_type": "code",
   "execution_count": null,
   "metadata": {},
   "outputs": [
    {
     "name": "stdout",
     "output_type": "stream",
     "text": [
      "1 "
     ]
    },
    {
     "name": "stderr",
     "output_type": "stream",
     "text": [
      "/var/folders/h4/7cr1cmpn7v5b3x20_9wz8m740000gn/T/ipykernel_5273/1479968977.py:19: DtypeWarning: Columns (2) have mixed types. Specify dtype option on import or set low_memory=False.\n",
      "  df = pd.read_csv(path,\n"
     ]
    },
    {
     "name": "stdout",
     "output_type": "stream",
     "text": [
      "2 "
     ]
    },
    {
     "name": "stderr",
     "output_type": "stream",
     "text": [
      "/var/folders/h4/7cr1cmpn7v5b3x20_9wz8m740000gn/T/ipykernel_5273/1479968977.py:19: DtypeWarning: Columns (2) have mixed types. Specify dtype option on import or set low_memory=False.\n",
      "  df = pd.read_csv(path,\n"
     ]
    },
    {
     "name": "stdout",
     "output_type": "stream",
     "text": [
      "3 4 5 6 7 8 9 10 11 12 13 14 15 16 "
     ]
    },
    {
     "name": "stderr",
     "output_type": "stream",
     "text": [
      "/var/folders/h4/7cr1cmpn7v5b3x20_9wz8m740000gn/T/ipykernel_5273/1479968977.py:19: DtypeWarning: Columns (2) have mixed types. Specify dtype option on import or set low_memory=False.\n",
      "  df = pd.read_csv(path,\n"
     ]
    },
    {
     "name": "stdout",
     "output_type": "stream",
     "text": [
      "17 18 19 20 21 22 23 24 25 26 27 28 29 30 31 32 33 34 35 36 37 38 39 40 41 42 43 44 45 46 47 48 49 50 51 52 53 \n",
      "2010    2.041377e+08\n",
      "2011    5.842620e+08\n",
      "2012    9.596104e+08\n",
      "2013    1.324468e+09\n",
      "2014    1.699034e+09\n",
      "2015    2.058469e+09\n",
      "2016    2.399227e+09\n",
      "2017    2.709008e+09\n",
      "2018    2.997901e+09\n",
      "2019    3.267153e+09\n",
      "2020    3.163759e+09\n",
      "dtype: float64\n",
      "CPU times: user 44min 31s, sys: 2h 27min 30s, total: 3h 12min 1s\n",
      "Wall time: 4h 5min 3s\n"
     ]
    }
   ],
   "source": [
    "%%time\n",
    "steps = 5000000\n",
    "names = ['CUST_ID', 'START_DATE', 'END_DATE', 'TRANS_ID', 'DATE', 'YEAR', 'MONTH', 'DAY', 'EXP_TYPE', 'AMOUNT']\n",
    "\n",
    "# Initialise yearly totals\n",
    "total_exp = pd.Series([0.0]*11, index=range(2010,2021))\n",
    "\n",
    "count = 0\n",
    "while True:\n",
    "    \n",
    "    df = get_rows(steps,count,names)\n",
    "\n",
    "    # Get yearly totals for subsection\n",
    "    exp = df.groupby(['YEAR'])['AMOUNT'].sum()\n",
    "    \n",
    "    # Loop over years 2010 to 2020\n",
    "    for year in range(2010,2021):\n",
    "        # Update yearly totals\n",
    "        total_exp[year] += exp[year]\n",
    "    \n",
    "    count+=1\n",
    "    print(count,end=\" \")\n",
    "    # Exit loop\n",
    "    if len(df)!=steps:\n",
    "        break\n",
    "print()\n",
    "print(total_exp)  "
   ]
  },
  {
   "cell_type": "code",
   "execution_count": null,
   "metadata": {},
   "outputs": [
    {
     "data": {
      "image/png": "[encoded data removed]",
      "text/plain": [
       "<Figure size 1000x500 with 1 Axes>"
      ]
     },
     "metadata": {},
     "output_type": "display_data"
    }
   ],
   "source": [
    "# Plot aggregation\n",
    "plt.figure(figsize=(10, 5))\n",
    "\n",
    "plt.plot(total_exp.index,total_exp/1000000000)\n",
    "plt.ylabel('Total expenditure ($ billion)',size=15)\n",
    "plt.xlabel('Year',size=15)\n",
    "plt.ylim(bottom=0)\n",
    "\n",
    "plt.savefig('../figures/agg_1.png', dpi=100)"
   ]
  },
  {
   "cell_type": "markdown",
   "metadata": {},
   "source": [
    "### Average monthly entertainment expenditure in 2020"
   ]
  },
  {
   "cell_type": "code",
   "execution_count": null,
   "metadata": {},
   "outputs": [
    {
     "name": "stdout",
     "output_type": "stream",
     "text": [
      "1 "
     ]
    },
    {
     "name": "stderr",
     "output_type": "stream",
     "text": [
      "/var/folders/h4/7cr1cmpn7v5b3x20_9wz8m740000gn/T/ipykernel_5273/1479968977.py:19: DtypeWarning: Columns (2) have mixed types. Specify dtype option on import or set low_memory=False.\n",
      "  df = pd.read_csv(path,\n"
     ]
    },
    {
     "name": "stdout",
     "output_type": "stream",
     "text": [
      "2 "
     ]
    },
    {
     "name": "stderr",
     "output_type": "stream",
     "text": [
      "/var/folders/h4/7cr1cmpn7v5b3x20_9wz8m740000gn/T/ipykernel_5273/1479968977.py:19: DtypeWarning: Columns (2) have mixed types. Specify dtype option on import or set low_memory=False.\n",
      "  df = pd.read_csv(path,\n"
     ]
    },
    {
     "name": "stdout",
     "output_type": "stream",
     "text": [
      "3 4 5 6 7 8 9 10 11 12 13 14 15 16 "
     ]
    },
    {
     "name": "stderr",
     "output_type": "stream",
     "text": [
      "/var/folders/h4/7cr1cmpn7v5b3x20_9wz8m740000gn/T/ipykernel_5273/1479968977.py:19: DtypeWarning: Columns (2) have mixed types. Specify dtype option on import or set low_memory=False.\n",
      "  df = pd.read_csv(path,\n"
     ]
    },
    {
     "name": "stdout",
     "output_type": "stream",
     "text": [
      "17 18 19 20 21 22 23 24 25 26 27 28 29 30 31 32 33 34 35 36 37 38 39 40 41 42 43 44 45 46 47 48 49 "
     ]
    }
   ],
   "source": [
    "%%time\n",
    "\n",
    "steps = 5000000\n",
    "names = ['CUST_ID', 'START_DATE', 'END_DATE', 'TRANS_ID', 'DATE', 'YEAR', 'MONTH', 'DAY', 'EXP_TYPE', 'AMOUNT']\n",
    "\n",
    "# Create empty total expenditure dataframe\n",
    "# total_exp = pd.DataFrame(columns=['CUST_ID','MONTH','AMOUNT'])\n",
    "df_list = []\n",
    "\n",
    "count = 0\n",
    "while True:\n",
    "    \n",
    "    df = get_rows(steps,count,names)\n",
    "\n",
    "    # Calculate monthly totals for each customer\n",
    "    df_2020 = df[(df.YEAR==2020) & (df.EXP_TYPE=='Entertainment')]\n",
    "    sum_exp = df_2020.groupby(['CUST_ID','MONTH'],as_index=False)['AMOUNT'].sum()\n",
    "    \n",
    "    # Append monthly totals\n",
    "    df_list.append(sum_exp)\n",
    "    count += 1\n",
    "    print(count, end=' ')\n",
    "    if len(df) != steps:\n",
    "        break\n",
    "    # total_exp = total_exp.append(sum_exp)\n",
    "    \n",
    "    # # Aggregate again so CUST_ID and MONTH are unique\n",
    "    # total_exp = total_exp.groupby(['CUST_ID','MONTH'],as_index=False)['AMOUNT'].sum()\n",
    "    \n",
    "    # count+=1\n",
    "    # print(count,end=\" \")\n",
    "    # # Exit loop\n",
    "    # if len(df)!=steps:\n",
    "    #     break\n",
    "\n",
    "total_exp = pd.concat(df_list, ignore_index=True)\n",
    "\n",
    "total_exp = total_exp.groupby(['CUST_ID','MONTH'],as_index=False)[AMOUNT].sum()\n",
    "\n",
    "# Final aggregations\n",
    "avg_exp = sum_exp.groupby(['MONTH'])['AMOUNT'].mean()\n",
    "\n",
    "print(avg_exp)"
   ]
  },
  {
   "cell_type": "code",
   "execution_count": null,
   "metadata": {},
   "outputs": [
    {
     "ename": "NameError",
     "evalue": "name 'avg_exp' is not defined",
     "output_type": "error",
     "traceback": [
      "\u001b[0;31m---------------------------------------------------------------------------\u001b[0m",
      "\u001b[0;31mNameError\u001b[0m                                 Traceback (most recent call last)",
      "Cell \u001b[0;32mIn[26], line 3\u001b[0m\n\u001b[1;32m      1\u001b[0m \u001b[38;5;66;03m# Plot aggregation\u001b[39;00m\n\u001b[1;32m      2\u001b[0m plt\u001b[38;5;241m.\u001b[39mfigure(figsize\u001b[38;5;241m=\u001b[39m(\u001b[38;5;241m10\u001b[39m, \u001b[38;5;241m5\u001b[39m))\n\u001b[0;32m----> 3\u001b[0m plt\u001b[38;5;241m.\u001b[39mplot(\u001b[43mavg_exp\u001b[49m\u001b[38;5;241m.\u001b[39mindex,avg_exp)\n\u001b[1;32m      4\u001b[0m plt\u001b[38;5;241m.\u001b[39mylabel(\u001b[38;5;124m'\u001b[39m\u001b[38;5;124mAverage entertainment expenditure\u001b[39m\u001b[38;5;124m'\u001b[39m,size\u001b[38;5;241m=\u001b[39m\u001b[38;5;241m12\u001b[39m)\n\u001b[1;32m      5\u001b[0m plt\u001b[38;5;241m.\u001b[39mxlabel(\u001b[38;5;124m'\u001b[39m\u001b[38;5;124mMonth\u001b[39m\u001b[38;5;124m'\u001b[39m,size\u001b[38;5;241m=\u001b[39m\u001b[38;5;241m15\u001b[39m)\n",
      "\u001b[0;31mNameError\u001b[0m: name 'avg_exp' is not defined"
     ]
    },
    {
     "data": {
      "text/plain": [
       "<Figure size 1000x500 with 0 Axes>"
      ]
     },
     "metadata": {},
     "output_type": "display_data"
    }
   ],
   "source": [
    "# Plot aggregation\n",
    "plt.figure(figsize=(10, 5))\n",
    "plt.plot(avg_exp.index,avg_exp)\n",
    "plt.ylabel('Average entertainment expenditure',size=12)\n",
    "plt.xlabel('Month',size=15)\n",
    "plt.ylim(bottom=0)\n",
    "\n",
    "plt.savefig('../figures/agg_2.png', dpi=100)"
   ]
  },
  {
   "cell_type": "code",
   "execution_count": null,
   "metadata": {},
   "outputs": [],
   "source": []
  }
 ],
 "metadata": {
  "kernelspec": {
   "display_name": "ml",
   "language": "python",
   "name": "python3"
  },
  "language_info": {
   "codemirror_mode": {
    "name": "ipython",
    "version": 3
   },
   "file_extension": ".py",
   "mimetype": "text/x-python",
   "name": "python",
   "nbconvert_exporter": "python",
   "pygments_lexer": "ipython3",
   "version": "3.9.16"
  }
 },
 "nbformat": 4,
 "nbformat_minor": 2
}
