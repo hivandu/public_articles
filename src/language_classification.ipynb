{
 "cells": [
  {
   "cell_type": "markdown",
   "metadata": {},
   "source": [
    "# 语言分类特征工程 \n",
    "\n",
    "为语言分类模型生成字符卦特征\n",
    "\n",
    "Dataset: https://downloads.tatoeba.org/exports/"
   ]
  },
  {
   "cell_type": "code",
   "execution_count": 1,
   "metadata": {},
   "outputs": [],
   "source": [
    "import pandas as pd\n",
    "import numpy as np\n",
    "\n",
    "from sklearn.feature_extraction.text import CountVectorizer\n",
    "from sklearn.metrics import accuracy_score, confusion_matrix\n",
    "\n",
    "import matplotlib.pyplot as plt\n",
    "import seaborn as sns\n",
    "\n",
    "import os\n",
    "data_path = os.environ.get('pub_data')"
   ]
  },
  {
   "cell_type": "markdown",
   "metadata": {},
   "source": [
    "## Dataset"
   ]
  },
  {
   "cell_type": "code",
   "execution_count": 3,
   "metadata": {},
   "outputs": [
    {
     "name": "stdout",
     "output_type": "stream",
     "text": [
      "Train set shape: (210000, 2)\n",
      "Validation set shape: (60000, 2)\n",
      "Test set shape: (30000, 2)\n"
     ]
    }
   ],
   "source": [
    "# read in full dataset\n",
    "data = pd.read_csv(data_path + '/language_classification/sentences.csv', \n",
    "                            sep='\\t', \n",
    "                            encoding='utf8', \n",
    "                            index_col=0,\n",
    "                            names=['lang','text'])\n",
    "\n",
    "# Filter by text length\n",
    "data = data[data['text'].str.len().between(20, 200)]\n",
    "\n",
    "# Filter by text language\n",
    "lang = ['deu', 'eng', 'fra', 'ita', 'por', 'spa']\n",
    "data = data[data['lang'].isin(lang)]\n",
    "\n",
    "# Select 50000 rows for each language\n",
    "data_trim_list = [data[data['lang'] == l].sample(50000, random_state=100) for l in lang]\n",
    "\n",
    "# Concatenate all the samples\n",
    "data_trim = pd.concat(data_trim_list)\n",
    "\n",
    "# Create a random train, valid, test split\n",
    "data_shuffle = data_trim.sample(frac=1, random_state=100)\n",
    "\n",
    "train = data_shuffle[:210000]\n",
    "valid = data_shuffle[210000:270000]\n",
    "test = data_shuffle[270000:300000]\n",
    "\n",
    "# Check the shapes to ensure everything is correct\n",
    "print(f\"Train set shape: {train.shape}\")\n",
    "print(f\"Validation set shape: {valid.shape}\")\n",
    "print(f\"Test set shape: {test.shape}\")"
   ]
  },
  {
   "cell_type": "code",
   "execution_count": 38,
   "metadata": {},
   "outputs": [],
   "source": [
    "# Save train, valid, test split\n",
    "train.to_csv(data_path + '/language_classification/train.csv')\n",
    "valid.to_csv(data_path + '/language_classification/valid.csv')\n",
    "test.to_csv(data_path + '/language_classification/test.csv')"
   ]
  },
  {
   "cell_type": "markdown",
   "metadata": {},
   "source": [
    "## Feature engineering "
   ]
  },
  {
   "cell_type": "code",
   "execution_count": 39,
   "metadata": {},
   "outputs": [
    {
     "name": "stdout",
     "output_type": "stream",
     "text": [
      "210000 60000 30000\n"
     ]
    },
    {
     "data": {
      "text/html": [
       "<div>\n",
       "<style scoped>\n",
       "    .dataframe tbody tr th:only-of-type {\n",
       "        vertical-align: middle;\n",
       "    }\n",
       "\n",
       "    .dataframe tbody tr th {\n",
       "        vertical-align: top;\n",
       "    }\n",
       "\n",
       "    .dataframe thead th {\n",
       "        text-align: right;\n",
       "    }\n",
       "</style>\n",
       "<table border=\"1\" class=\"dataframe\">\n",
       "  <thead>\n",
       "    <tr style=\"text-align: right;\">\n",
       "      <th></th>\n",
       "      <th>lang</th>\n",
       "      <th>text</th>\n",
       "    </tr>\n",
       "  </thead>\n",
       "  <tbody>\n",
       "    <tr>\n",
       "      <th>10324955</th>\n",
       "      <td>deu</td>\n",
       "      <td>Das schmeckt nicht besonders gut.</td>\n",
       "    </tr>\n",
       "    <tr>\n",
       "      <th>6560456</th>\n",
       "      <td>fra</td>\n",
       "      <td>Penses-tu pouvoir arrêter de faire ça ?</td>\n",
       "    </tr>\n",
       "    <tr>\n",
       "      <th>9736718</th>\n",
       "      <td>fra</td>\n",
       "      <td>Je ne parlerai jamais couramment l'allemand, m...</td>\n",
       "    </tr>\n",
       "    <tr>\n",
       "      <th>9065853</th>\n",
       "      <td>por</td>\n",
       "      <td>Ainda há muito trabalho a ser feito.</td>\n",
       "    </tr>\n",
       "    <tr>\n",
       "      <th>4542124</th>\n",
       "      <td>fra</td>\n",
       "      <td>Arkhangelsk est le plus loin des endroits les ...</td>\n",
       "    </tr>\n",
       "  </tbody>\n",
       "</table>\n",
       "</div>"
      ],
      "text/plain": [
       "         lang                                               text\n",
       "10324955  deu                  Das schmeckt nicht besonders gut.\n",
       "6560456   fra            Penses-tu pouvoir arrêter de faire ça ?\n",
       "9736718   fra  Je ne parlerai jamais couramment l'allemand, m...\n",
       "9065853   por               Ainda há muito trabalho a ser feito.\n",
       "4542124   fra  Arkhangelsk est le plus loin des endroits les ..."
      ]
     },
     "execution_count": 39,
     "metadata": {},
     "output_type": "execute_result"
    }
   ],
   "source": [
    "train = pd.read_csv(data_path + '/language_classification/train.csv', index_col =0)\n",
    "valid = pd.read_csv(data_path + '/language_classification/valid.csv', index_col =0)\n",
    "test = pd.read_csv(data_path + '/language_classification/test.csv', index_col =0)\n",
    "print(len(train),len(valid),len(test))\n",
    "train.head()"
   ]
  },
  {
   "cell_type": "code",
   "execution_count": 57,
   "metadata": {},
   "outputs": [],
   "source": [
    "def get_trigrams(corpus, n_feat=200):\n",
    "    \"\"\"\n",
    "    Returns a list of the N most common character trigrams from a list of sentences\n",
    "    params\n",
    "    ------------\n",
    "        corpus: list of strings\n",
    "        n_feat: integer\n",
    "    \"\"\"\n",
    "    # fit the n-gram model\n",
    "    vectorizer = CountVectorizer(analyzer='char', ngram_range=(3, 3), max_features=n_feat)\n",
    "\n",
    "    X = vectorizer.fit_transform(corpus)\n",
    "\n",
    "    # Get model feature names\n",
    "    feature_names = vectorizer.get_feature_names_out()\n",
    "    return feature_names"
   ]
  },
  {
   "cell_type": "code",
   "execution_count": 58,
   "metadata": {},
   "outputs": [],
   "source": [
    "# obtain trigrams from each language\n",
    "features = {}\n",
    "features_set = set()\n",
    "\n",
    "for l in lang:\n",
    "    \n",
    "    # get corpus filtered by language\n",
    "    corpus = train[train.lang==l]['text']\n",
    "    \n",
    "    # get 200 most frequent trigrams\n",
    "    trigrams = get_trigrams(corpus)\n",
    "    \n",
    "    # add to dict and set\n",
    "    features[l] = trigrams \n",
    "    features_set.update(trigrams)\n",
    "\n",
    "    \n",
    "# create vocabulary list using feature set\n",
    "vocab = dict()\n",
    "for i,f in enumerate(features_set):\n",
    "    vocab[f]=i"
   ]
  },
  {
   "cell_type": "code",
   "execution_count": 59,
   "metadata": {},
   "outputs": [
    {
     "data": {
      "text/plain": [
       "200"
      ]
     },
     "execution_count": 59,
     "metadata": {},
     "output_type": "execute_result"
    }
   ],
   "source": [
    "len(features['eng'])"
   ]
  },
  {
   "cell_type": "code",
   "execution_count": 60,
   "metadata": {},
   "outputs": [],
   "source": [
    "# train count vectoriser using vocabulary\n",
    "vectorizer = CountVectorizer(analyzer='char',\n",
    "                             ngram_range=(3, 3),\n",
    "                            vocabulary=vocab)\n",
    "\n",
    "# create feature matrix for training set\n",
    "corpus = train['text']   \n",
    "X = vectorizer.fit_transform(corpus)\n",
    "feature_names = vectorizer.get_feature_names_out()\n",
    "\n",
    "train_feat = pd.DataFrame(data=X.toarray(),columns=feature_names)"
   ]
  },
  {
   "cell_type": "code",
   "execution_count": 61,
   "metadata": {},
   "outputs": [
    {
     "name": "stdout",
     "output_type": "stream",
     "text": [
      "661\n"
     ]
    },
    {
     "data": {
      "text/html": [
       "<div>\n",
       "<style scoped>\n",
       "    .dataframe tbody tr th:only-of-type {\n",
       "        vertical-align: middle;\n",
       "    }\n",
       "\n",
       "    .dataframe tbody tr th {\n",
       "        vertical-align: top;\n",
       "    }\n",
       "\n",
       "    .dataframe thead th {\n",
       "        text-align: right;\n",
       "    }\n",
       "</style>\n",
       "<table border=\"1\" class=\"dataframe\">\n",
       "  <thead>\n",
       "    <tr style=\"text-align: right;\">\n",
       "      <th></th>\n",
       "      <th>une</th>\n",
       "      <th>a</th>\n",
       "      <th>ass</th>\n",
       "      <th>ocê</th>\n",
       "      <th>bei</th>\n",
       "      <th>t m</th>\n",
       "      <th>y</th>\n",
       "      <th>n b</th>\n",
       "      <th>ade</th>\n",
       "      <th>y s</th>\n",
       "      <th>...</th>\n",
       "      <th>no</th>\n",
       "      <th>ti</th>\n",
       "      <th>'s</th>\n",
       "      <th>fr</th>\n",
       "      <th>sen</th>\n",
       "      <th>ois</th>\n",
       "      <th>to.</th>\n",
       "      <th>mit</th>\n",
       "      <th>eux</th>\n",
       "      <th>nho</th>\n",
       "    </tr>\n",
       "  </thead>\n",
       "  <tbody>\n",
       "    <tr>\n",
       "      <th>0</th>\n",
       "      <td>0</td>\n",
       "      <td>0</td>\n",
       "      <td>0</td>\n",
       "      <td>0</td>\n",
       "      <td>0</td>\n",
       "      <td>0</td>\n",
       "      <td>0</td>\n",
       "      <td>0</td>\n",
       "      <td>0</td>\n",
       "      <td>0</td>\n",
       "      <td>...</td>\n",
       "      <td>0</td>\n",
       "      <td>0</td>\n",
       "      <td>0</td>\n",
       "      <td>0</td>\n",
       "      <td>0</td>\n",
       "      <td>0</td>\n",
       "      <td>0</td>\n",
       "      <td>0</td>\n",
       "      <td>0</td>\n",
       "      <td>0</td>\n",
       "    </tr>\n",
       "    <tr>\n",
       "      <th>1</th>\n",
       "      <td>0</td>\n",
       "      <td>0</td>\n",
       "      <td>0</td>\n",
       "      <td>0</td>\n",
       "      <td>0</td>\n",
       "      <td>0</td>\n",
       "      <td>0</td>\n",
       "      <td>0</td>\n",
       "      <td>0</td>\n",
       "      <td>0</td>\n",
       "      <td>...</td>\n",
       "      <td>0</td>\n",
       "      <td>0</td>\n",
       "      <td>0</td>\n",
       "      <td>0</td>\n",
       "      <td>0</td>\n",
       "      <td>0</td>\n",
       "      <td>0</td>\n",
       "      <td>0</td>\n",
       "      <td>0</td>\n",
       "      <td>0</td>\n",
       "    </tr>\n",
       "    <tr>\n",
       "      <th>2</th>\n",
       "      <td>0</td>\n",
       "      <td>0</td>\n",
       "      <td>0</td>\n",
       "      <td>0</td>\n",
       "      <td>0</td>\n",
       "      <td>0</td>\n",
       "      <td>0</td>\n",
       "      <td>0</td>\n",
       "      <td>0</td>\n",
       "      <td>0</td>\n",
       "      <td>...</td>\n",
       "      <td>0</td>\n",
       "      <td>0</td>\n",
       "      <td>0</td>\n",
       "      <td>0</td>\n",
       "      <td>0</td>\n",
       "      <td>0</td>\n",
       "      <td>0</td>\n",
       "      <td>0</td>\n",
       "      <td>1</td>\n",
       "      <td>0</td>\n",
       "    </tr>\n",
       "    <tr>\n",
       "      <th>3</th>\n",
       "      <td>0</td>\n",
       "      <td>1</td>\n",
       "      <td>0</td>\n",
       "      <td>0</td>\n",
       "      <td>0</td>\n",
       "      <td>0</td>\n",
       "      <td>0</td>\n",
       "      <td>0</td>\n",
       "      <td>0</td>\n",
       "      <td>0</td>\n",
       "      <td>...</td>\n",
       "      <td>0</td>\n",
       "      <td>0</td>\n",
       "      <td>0</td>\n",
       "      <td>0</td>\n",
       "      <td>0</td>\n",
       "      <td>0</td>\n",
       "      <td>1</td>\n",
       "      <td>0</td>\n",
       "      <td>0</td>\n",
       "      <td>0</td>\n",
       "    </tr>\n",
       "    <tr>\n",
       "      <th>4</th>\n",
       "      <td>0</td>\n",
       "      <td>0</td>\n",
       "      <td>0</td>\n",
       "      <td>0</td>\n",
       "      <td>0</td>\n",
       "      <td>0</td>\n",
       "      <td>0</td>\n",
       "      <td>0</td>\n",
       "      <td>0</td>\n",
       "      <td>0</td>\n",
       "      <td>...</td>\n",
       "      <td>0</td>\n",
       "      <td>0</td>\n",
       "      <td>0</td>\n",
       "      <td>0</td>\n",
       "      <td>0</td>\n",
       "      <td>0</td>\n",
       "      <td>0</td>\n",
       "      <td>0</td>\n",
       "      <td>0</td>\n",
       "      <td>0</td>\n",
       "    </tr>\n",
       "    <tr>\n",
       "      <th>...</th>\n",
       "      <td>...</td>\n",
       "      <td>...</td>\n",
       "      <td>...</td>\n",
       "      <td>...</td>\n",
       "      <td>...</td>\n",
       "      <td>...</td>\n",
       "      <td>...</td>\n",
       "      <td>...</td>\n",
       "      <td>...</td>\n",
       "      <td>...</td>\n",
       "      <td>...</td>\n",
       "      <td>...</td>\n",
       "      <td>...</td>\n",
       "      <td>...</td>\n",
       "      <td>...</td>\n",
       "      <td>...</td>\n",
       "      <td>...</td>\n",
       "      <td>...</td>\n",
       "      <td>...</td>\n",
       "      <td>...</td>\n",
       "      <td>...</td>\n",
       "    </tr>\n",
       "    <tr>\n",
       "      <th>209995</th>\n",
       "      <td>0</td>\n",
       "      <td>0</td>\n",
       "      <td>0</td>\n",
       "      <td>0</td>\n",
       "      <td>0</td>\n",
       "      <td>0</td>\n",
       "      <td>0</td>\n",
       "      <td>0</td>\n",
       "      <td>0</td>\n",
       "      <td>0</td>\n",
       "      <td>...</td>\n",
       "      <td>0</td>\n",
       "      <td>0</td>\n",
       "      <td>0</td>\n",
       "      <td>0</td>\n",
       "      <td>1</td>\n",
       "      <td>0</td>\n",
       "      <td>0</td>\n",
       "      <td>0</td>\n",
       "      <td>0</td>\n",
       "      <td>0</td>\n",
       "    </tr>\n",
       "    <tr>\n",
       "      <th>209996</th>\n",
       "      <td>0</td>\n",
       "      <td>0</td>\n",
       "      <td>0</td>\n",
       "      <td>0</td>\n",
       "      <td>0</td>\n",
       "      <td>0</td>\n",
       "      <td>0</td>\n",
       "      <td>0</td>\n",
       "      <td>0</td>\n",
       "      <td>0</td>\n",
       "      <td>...</td>\n",
       "      <td>0</td>\n",
       "      <td>0</td>\n",
       "      <td>0</td>\n",
       "      <td>0</td>\n",
       "      <td>0</td>\n",
       "      <td>0</td>\n",
       "      <td>0</td>\n",
       "      <td>0</td>\n",
       "      <td>1</td>\n",
       "      <td>0</td>\n",
       "    </tr>\n",
       "    <tr>\n",
       "      <th>209997</th>\n",
       "      <td>0</td>\n",
       "      <td>0</td>\n",
       "      <td>0</td>\n",
       "      <td>0</td>\n",
       "      <td>0</td>\n",
       "      <td>0</td>\n",
       "      <td>0</td>\n",
       "      <td>0</td>\n",
       "      <td>0</td>\n",
       "      <td>0</td>\n",
       "      <td>...</td>\n",
       "      <td>0</td>\n",
       "      <td>0</td>\n",
       "      <td>0</td>\n",
       "      <td>0</td>\n",
       "      <td>0</td>\n",
       "      <td>0</td>\n",
       "      <td>0</td>\n",
       "      <td>0</td>\n",
       "      <td>0</td>\n",
       "      <td>0</td>\n",
       "    </tr>\n",
       "    <tr>\n",
       "      <th>209998</th>\n",
       "      <td>0</td>\n",
       "      <td>0</td>\n",
       "      <td>0</td>\n",
       "      <td>1</td>\n",
       "      <td>0</td>\n",
       "      <td>0</td>\n",
       "      <td>0</td>\n",
       "      <td>0</td>\n",
       "      <td>0</td>\n",
       "      <td>0</td>\n",
       "      <td>...</td>\n",
       "      <td>0</td>\n",
       "      <td>0</td>\n",
       "      <td>0</td>\n",
       "      <td>0</td>\n",
       "      <td>0</td>\n",
       "      <td>0</td>\n",
       "      <td>0</td>\n",
       "      <td>0</td>\n",
       "      <td>0</td>\n",
       "      <td>0</td>\n",
       "    </tr>\n",
       "    <tr>\n",
       "      <th>209999</th>\n",
       "      <td>0</td>\n",
       "      <td>0</td>\n",
       "      <td>1</td>\n",
       "      <td>0</td>\n",
       "      <td>0</td>\n",
       "      <td>0</td>\n",
       "      <td>0</td>\n",
       "      <td>0</td>\n",
       "      <td>0</td>\n",
       "      <td>0</td>\n",
       "      <td>...</td>\n",
       "      <td>0</td>\n",
       "      <td>0</td>\n",
       "      <td>0</td>\n",
       "      <td>0</td>\n",
       "      <td>0</td>\n",
       "      <td>0</td>\n",
       "      <td>0</td>\n",
       "      <td>0</td>\n",
       "      <td>0</td>\n",
       "      <td>0</td>\n",
       "    </tr>\n",
       "  </tbody>\n",
       "</table>\n",
       "<p>210000 rows × 661 columns</p>\n",
       "</div>"
      ],
      "text/plain": [
       "        une   a   ass  ocê  bei  t m   y   n b  ade  y s  ...  no    ti  's   \\\n",
       "0         0    0    0    0    0    0    0    0    0    0  ...    0    0    0   \n",
       "1         0    0    0    0    0    0    0    0    0    0  ...    0    0    0   \n",
       "2         0    0    0    0    0    0    0    0    0    0  ...    0    0    0   \n",
       "3         0    1    0    0    0    0    0    0    0    0  ...    0    0    0   \n",
       "4         0    0    0    0    0    0    0    0    0    0  ...    0    0    0   \n",
       "...     ...  ...  ...  ...  ...  ...  ...  ...  ...  ...  ...  ...  ...  ...   \n",
       "209995    0    0    0    0    0    0    0    0    0    0  ...    0    0    0   \n",
       "209996    0    0    0    0    0    0    0    0    0    0  ...    0    0    0   \n",
       "209997    0    0    0    0    0    0    0    0    0    0  ...    0    0    0   \n",
       "209998    0    0    0    1    0    0    0    0    0    0  ...    0    0    0   \n",
       "209999    0    0    1    0    0    0    0    0    0    0  ...    0    0    0   \n",
       "\n",
       "         fr  sen  ois  to.  mit  eux  nho  \n",
       "0         0    0    0    0    0    0    0  \n",
       "1         0    0    0    0    0    0    0  \n",
       "2         0    0    0    0    0    1    0  \n",
       "3         0    0    0    1    0    0    0  \n",
       "4         0    0    0    0    0    0    0  \n",
       "...     ...  ...  ...  ...  ...  ...  ...  \n",
       "209995    0    1    0    0    0    0    0  \n",
       "209996    0    0    0    0    0    1    0  \n",
       "209997    0    0    0    0    0    0    0  \n",
       "209998    0    0    0    0    0    0    0  \n",
       "209999    0    0    0    0    0    0    0  \n",
       "\n",
       "[210000 rows x 661 columns]"
      ]
     },
     "execution_count": 61,
     "metadata": {},
     "output_type": "execute_result"
    }
   ],
   "source": [
    "print(len(train_feat.columns))\n",
    "train_feat"
   ]
  },
  {
   "cell_type": "code",
   "execution_count": 62,
   "metadata": {},
   "outputs": [
    {
     "data": {
      "text/html": [
       "<div>\n",
       "<style scoped>\n",
       "    .dataframe tbody tr th:only-of-type {\n",
       "        vertical-align: middle;\n",
       "    }\n",
       "\n",
       "    .dataframe tbody tr th {\n",
       "        vertical-align: top;\n",
       "    }\n",
       "\n",
       "    .dataframe thead th {\n",
       "        text-align: right;\n",
       "    }\n",
       "</style>\n",
       "<table border=\"1\" class=\"dataframe\">\n",
       "  <thead>\n",
       "    <tr style=\"text-align: right;\">\n",
       "      <th></th>\n",
       "      <th>une</th>\n",
       "      <th>a</th>\n",
       "      <th>ass</th>\n",
       "      <th>ocê</th>\n",
       "      <th>bei</th>\n",
       "      <th>t m</th>\n",
       "      <th>y</th>\n",
       "      <th>n b</th>\n",
       "      <th>ade</th>\n",
       "      <th>y s</th>\n",
       "      <th>...</th>\n",
       "      <th>ti</th>\n",
       "      <th>'s</th>\n",
       "      <th>fr</th>\n",
       "      <th>sen</th>\n",
       "      <th>ois</th>\n",
       "      <th>to.</th>\n",
       "      <th>mit</th>\n",
       "      <th>eux</th>\n",
       "      <th>nho</th>\n",
       "      <th>lang</th>\n",
       "    </tr>\n",
       "  </thead>\n",
       "  <tbody>\n",
       "    <tr>\n",
       "      <th>0</th>\n",
       "      <td>0.0</td>\n",
       "      <td>0.000000</td>\n",
       "      <td>0.00</td>\n",
       "      <td>0.00</td>\n",
       "      <td>0.0</td>\n",
       "      <td>0.0</td>\n",
       "      <td>0.0</td>\n",
       "      <td>0.0</td>\n",
       "      <td>0.0</td>\n",
       "      <td>0.0</td>\n",
       "      <td>...</td>\n",
       "      <td>0.0</td>\n",
       "      <td>0.0</td>\n",
       "      <td>0.0</td>\n",
       "      <td>0.00</td>\n",
       "      <td>0.0</td>\n",
       "      <td>0.0</td>\n",
       "      <td>0.0</td>\n",
       "      <td>0.000000</td>\n",
       "      <td>0.0</td>\n",
       "      <td>deu</td>\n",
       "    </tr>\n",
       "    <tr>\n",
       "      <th>1</th>\n",
       "      <td>0.0</td>\n",
       "      <td>0.000000</td>\n",
       "      <td>0.00</td>\n",
       "      <td>0.00</td>\n",
       "      <td>0.0</td>\n",
       "      <td>0.0</td>\n",
       "      <td>0.0</td>\n",
       "      <td>0.0</td>\n",
       "      <td>0.0</td>\n",
       "      <td>0.0</td>\n",
       "      <td>...</td>\n",
       "      <td>0.0</td>\n",
       "      <td>0.0</td>\n",
       "      <td>0.0</td>\n",
       "      <td>0.00</td>\n",
       "      <td>0.0</td>\n",
       "      <td>0.0</td>\n",
       "      <td>0.0</td>\n",
       "      <td>0.000000</td>\n",
       "      <td>0.0</td>\n",
       "      <td>fra</td>\n",
       "    </tr>\n",
       "    <tr>\n",
       "      <th>2</th>\n",
       "      <td>0.0</td>\n",
       "      <td>0.000000</td>\n",
       "      <td>0.00</td>\n",
       "      <td>0.00</td>\n",
       "      <td>0.0</td>\n",
       "      <td>0.0</td>\n",
       "      <td>0.0</td>\n",
       "      <td>0.0</td>\n",
       "      <td>0.0</td>\n",
       "      <td>0.0</td>\n",
       "      <td>...</td>\n",
       "      <td>0.0</td>\n",
       "      <td>0.0</td>\n",
       "      <td>0.0</td>\n",
       "      <td>0.00</td>\n",
       "      <td>0.0</td>\n",
       "      <td>0.0</td>\n",
       "      <td>0.0</td>\n",
       "      <td>0.333333</td>\n",
       "      <td>0.0</td>\n",
       "      <td>fra</td>\n",
       "    </tr>\n",
       "    <tr>\n",
       "      <th>3</th>\n",
       "      <td>0.0</td>\n",
       "      <td>0.166667</td>\n",
       "      <td>0.00</td>\n",
       "      <td>0.00</td>\n",
       "      <td>0.0</td>\n",
       "      <td>0.0</td>\n",
       "      <td>0.0</td>\n",
       "      <td>0.0</td>\n",
       "      <td>0.0</td>\n",
       "      <td>0.0</td>\n",
       "      <td>...</td>\n",
       "      <td>0.0</td>\n",
       "      <td>0.0</td>\n",
       "      <td>0.0</td>\n",
       "      <td>0.00</td>\n",
       "      <td>0.0</td>\n",
       "      <td>0.5</td>\n",
       "      <td>0.0</td>\n",
       "      <td>0.000000</td>\n",
       "      <td>0.0</td>\n",
       "      <td>por</td>\n",
       "    </tr>\n",
       "    <tr>\n",
       "      <th>4</th>\n",
       "      <td>0.0</td>\n",
       "      <td>0.000000</td>\n",
       "      <td>0.00</td>\n",
       "      <td>0.00</td>\n",
       "      <td>0.0</td>\n",
       "      <td>0.0</td>\n",
       "      <td>0.0</td>\n",
       "      <td>0.0</td>\n",
       "      <td>0.0</td>\n",
       "      <td>0.0</td>\n",
       "      <td>...</td>\n",
       "      <td>0.0</td>\n",
       "      <td>0.0</td>\n",
       "      <td>0.0</td>\n",
       "      <td>0.00</td>\n",
       "      <td>0.0</td>\n",
       "      <td>0.0</td>\n",
       "      <td>0.0</td>\n",
       "      <td>0.000000</td>\n",
       "      <td>0.0</td>\n",
       "      <td>fra</td>\n",
       "    </tr>\n",
       "    <tr>\n",
       "      <th>...</th>\n",
       "      <td>...</td>\n",
       "      <td>...</td>\n",
       "      <td>...</td>\n",
       "      <td>...</td>\n",
       "      <td>...</td>\n",
       "      <td>...</td>\n",
       "      <td>...</td>\n",
       "      <td>...</td>\n",
       "      <td>...</td>\n",
       "      <td>...</td>\n",
       "      <td>...</td>\n",
       "      <td>...</td>\n",
       "      <td>...</td>\n",
       "      <td>...</td>\n",
       "      <td>...</td>\n",
       "      <td>...</td>\n",
       "      <td>...</td>\n",
       "      <td>...</td>\n",
       "      <td>...</td>\n",
       "      <td>...</td>\n",
       "      <td>...</td>\n",
       "    </tr>\n",
       "    <tr>\n",
       "      <th>209995</th>\n",
       "      <td>0.0</td>\n",
       "      <td>0.000000</td>\n",
       "      <td>0.00</td>\n",
       "      <td>0.00</td>\n",
       "      <td>0.0</td>\n",
       "      <td>0.0</td>\n",
       "      <td>0.0</td>\n",
       "      <td>0.0</td>\n",
       "      <td>0.0</td>\n",
       "      <td>0.0</td>\n",
       "      <td>...</td>\n",
       "      <td>0.0</td>\n",
       "      <td>0.0</td>\n",
       "      <td>0.0</td>\n",
       "      <td>0.25</td>\n",
       "      <td>0.0</td>\n",
       "      <td>0.0</td>\n",
       "      <td>0.0</td>\n",
       "      <td>0.000000</td>\n",
       "      <td>0.0</td>\n",
       "      <td>deu</td>\n",
       "    </tr>\n",
       "    <tr>\n",
       "      <th>209996</th>\n",
       "      <td>0.0</td>\n",
       "      <td>0.000000</td>\n",
       "      <td>0.00</td>\n",
       "      <td>0.00</td>\n",
       "      <td>0.0</td>\n",
       "      <td>0.0</td>\n",
       "      <td>0.0</td>\n",
       "      <td>0.0</td>\n",
       "      <td>0.0</td>\n",
       "      <td>0.0</td>\n",
       "      <td>...</td>\n",
       "      <td>0.0</td>\n",
       "      <td>0.0</td>\n",
       "      <td>0.0</td>\n",
       "      <td>0.00</td>\n",
       "      <td>0.0</td>\n",
       "      <td>0.0</td>\n",
       "      <td>0.0</td>\n",
       "      <td>0.333333</td>\n",
       "      <td>0.0</td>\n",
       "      <td>fra</td>\n",
       "    </tr>\n",
       "    <tr>\n",
       "      <th>209997</th>\n",
       "      <td>0.0</td>\n",
       "      <td>0.000000</td>\n",
       "      <td>0.00</td>\n",
       "      <td>0.00</td>\n",
       "      <td>0.0</td>\n",
       "      <td>0.0</td>\n",
       "      <td>0.0</td>\n",
       "      <td>0.0</td>\n",
       "      <td>0.0</td>\n",
       "      <td>0.0</td>\n",
       "      <td>...</td>\n",
       "      <td>0.0</td>\n",
       "      <td>0.0</td>\n",
       "      <td>0.0</td>\n",
       "      <td>0.00</td>\n",
       "      <td>0.0</td>\n",
       "      <td>0.0</td>\n",
       "      <td>0.0</td>\n",
       "      <td>0.000000</td>\n",
       "      <td>0.0</td>\n",
       "      <td>fra</td>\n",
       "    </tr>\n",
       "    <tr>\n",
       "      <th>209998</th>\n",
       "      <td>0.0</td>\n",
       "      <td>0.000000</td>\n",
       "      <td>0.00</td>\n",
       "      <td>0.25</td>\n",
       "      <td>0.0</td>\n",
       "      <td>0.0</td>\n",
       "      <td>0.0</td>\n",
       "      <td>0.0</td>\n",
       "      <td>0.0</td>\n",
       "      <td>0.0</td>\n",
       "      <td>...</td>\n",
       "      <td>0.0</td>\n",
       "      <td>0.0</td>\n",
       "      <td>0.0</td>\n",
       "      <td>0.00</td>\n",
       "      <td>0.0</td>\n",
       "      <td>0.0</td>\n",
       "      <td>0.0</td>\n",
       "      <td>0.000000</td>\n",
       "      <td>0.0</td>\n",
       "      <td>por</td>\n",
       "    </tr>\n",
       "    <tr>\n",
       "      <th>209999</th>\n",
       "      <td>0.0</td>\n",
       "      <td>0.000000</td>\n",
       "      <td>0.25</td>\n",
       "      <td>0.00</td>\n",
       "      <td>0.0</td>\n",
       "      <td>0.0</td>\n",
       "      <td>0.0</td>\n",
       "      <td>0.0</td>\n",
       "      <td>0.0</td>\n",
       "      <td>0.0</td>\n",
       "      <td>...</td>\n",
       "      <td>0.0</td>\n",
       "      <td>0.0</td>\n",
       "      <td>0.0</td>\n",
       "      <td>0.00</td>\n",
       "      <td>0.0</td>\n",
       "      <td>0.0</td>\n",
       "      <td>0.0</td>\n",
       "      <td>0.000000</td>\n",
       "      <td>0.0</td>\n",
       "      <td>fra</td>\n",
       "    </tr>\n",
       "  </tbody>\n",
       "</table>\n",
       "<p>210000 rows × 662 columns</p>\n",
       "</div>"
      ],
      "text/plain": [
       "        une        a    ass   ocê  bei  t m   y   n b  ade  y s  ...   ti  \\\n",
       "0       0.0  0.000000  0.00  0.00  0.0  0.0  0.0  0.0  0.0  0.0  ...  0.0   \n",
       "1       0.0  0.000000  0.00  0.00  0.0  0.0  0.0  0.0  0.0  0.0  ...  0.0   \n",
       "2       0.0  0.000000  0.00  0.00  0.0  0.0  0.0  0.0  0.0  0.0  ...  0.0   \n",
       "3       0.0  0.166667  0.00  0.00  0.0  0.0  0.0  0.0  0.0  0.0  ...  0.0   \n",
       "4       0.0  0.000000  0.00  0.00  0.0  0.0  0.0  0.0  0.0  0.0  ...  0.0   \n",
       "...     ...       ...   ...   ...  ...  ...  ...  ...  ...  ...  ...  ...   \n",
       "209995  0.0  0.000000  0.00  0.00  0.0  0.0  0.0  0.0  0.0  0.0  ...  0.0   \n",
       "209996  0.0  0.000000  0.00  0.00  0.0  0.0  0.0  0.0  0.0  0.0  ...  0.0   \n",
       "209997  0.0  0.000000  0.00  0.00  0.0  0.0  0.0  0.0  0.0  0.0  ...  0.0   \n",
       "209998  0.0  0.000000  0.00  0.25  0.0  0.0  0.0  0.0  0.0  0.0  ...  0.0   \n",
       "209999  0.0  0.000000  0.25  0.00  0.0  0.0  0.0  0.0  0.0  0.0  ...  0.0   \n",
       "\n",
       "        's    fr   sen  ois  to.  mit       eux  nho  lang  \n",
       "0       0.0  0.0  0.00  0.0  0.0  0.0  0.000000  0.0   deu  \n",
       "1       0.0  0.0  0.00  0.0  0.0  0.0  0.000000  0.0   fra  \n",
       "2       0.0  0.0  0.00  0.0  0.0  0.0  0.333333  0.0   fra  \n",
       "3       0.0  0.0  0.00  0.0  0.5  0.0  0.000000  0.0   por  \n",
       "4       0.0  0.0  0.00  0.0  0.0  0.0  0.000000  0.0   fra  \n",
       "...     ...  ...   ...  ...  ...  ...       ...  ...   ...  \n",
       "209995  0.0  0.0  0.25  0.0  0.0  0.0  0.000000  0.0   deu  \n",
       "209996  0.0  0.0  0.00  0.0  0.0  0.0  0.333333  0.0   fra  \n",
       "209997  0.0  0.0  0.00  0.0  0.0  0.0  0.000000  0.0   fra  \n",
       "209998  0.0  0.0  0.00  0.0  0.0  0.0  0.000000  0.0   por  \n",
       "209999  0.0  0.0  0.00  0.0  0.0  0.0  0.000000  0.0   fra  \n",
       "\n",
       "[210000 rows x 662 columns]"
      ]
     },
     "execution_count": 62,
     "metadata": {},
     "output_type": "execute_result"
    }
   ],
   "source": [
    "# Scale feature matrix \n",
    "train_min = train_feat.min()\n",
    "train_max = train_feat.max()\n",
    "train_feat = (train_feat - train_min)/(train_max-train_min)\n",
    "\n",
    "# Add target variable \n",
    "train_feat['lang'] = list(train['lang'])\n",
    "\n",
    "train_feat"
   ]
  },
  {
   "cell_type": "code",
   "execution_count": 63,
   "metadata": {},
   "outputs": [],
   "source": [
    "# create feature matrix for validation set\n",
    "corpus = valid['text']   \n",
    "X = vectorizer.fit_transform(corpus)\n",
    "\n",
    "valid_feat = pd.DataFrame(data=X.toarray(),columns=feature_names)\n",
    "valid_feat = (valid_feat - train_min)/(train_max-train_min)\n",
    "valid_feat['lang'] = list(valid['lang'])\n",
    "\n",
    "# create feature matrix for test set\n",
    "corpus = test['text']   \n",
    "X = vectorizer.fit_transform(corpus)\n",
    "\n",
    "test_feat = pd.DataFrame(data=X.toarray(),columns=feature_names)\n",
    "test_feat = (test_feat - train_min)/(train_max-train_min)\n",
    "test_feat['lang'] = list(test['lang'])\n"
   ]
  },
  {
   "cell_type": "code",
   "execution_count": 64,
   "metadata": {},
   "outputs": [
    {
     "name": "stdout",
     "output_type": "stream",
     "text": [
      "662 662\n",
      "210000 60000 30000\n"
     ]
    }
   ],
   "source": [
    "print(len(valid_feat.columns),len(test_feat.columns))\n",
    "print(len(train_feat),len(valid_feat),len(test_feat))"
   ]
  },
  {
   "cell_type": "code",
   "execution_count": 48,
   "metadata": {},
   "outputs": [],
   "source": [
    "# Save train, valid, test split\n",
    "train_feat.to_csv(data_path + '/language_classification/train_feat.csv')\n",
    "valid_feat.to_csv(data_path + '/language_classification/valid_feat.csv')\n",
    "test_feat.to_csv(data_path + '/language_classification/test_feat.csv')"
   ]
  },
  {
   "cell_type": "markdown",
   "metadata": {},
   "source": [
    "## Data Exploration"
   ]
  },
  {
   "cell_type": "code",
   "execution_count": 65,
   "metadata": {},
   "outputs": [
    {
     "name": "stdout",
     "output_type": "stream",
     "text": [
      "Matrix of shared trigrams:\n",
      "[200, 56, 52, 47, 42, 49]\n",
      "[56, 200, 55, 54, 52, 51]\n",
      "[52, 55, 200, 70, 78, 81]\n",
      "[47, 54, 70, 200, 97, 99]\n",
      "[42, 52, 78, 97, 200, 128]\n",
      "[49, 51, 81, 99, 128, 200]\n",
      "\n",
      "NaN values in the DataFrame:\n",
      "0\n"
     ]
    },
    {
     "data": {
      "image/png": "[encoded data removed]",
      "text/plain": [
       "<Figure size 1000x1000 with 1 Axes>"
      ]
     },
     "metadata": {},
     "output_type": "display_data"
    }
   ],
   "source": [
    "# Calculate number of shared trigrams\n",
    "labels = ['deu', 'eng', 'fra', 'ita', 'por', 'spa']\n",
    "\n",
    "mat = []\n",
    "for i in labels:\n",
    "    vec = []\n",
    "    for j in labels:\n",
    "        l1 = features[i]\n",
    "        l2 = features[j]\n",
    "        intersec = [l for l in l1 if l in l2]\n",
    "        vec.append(len(intersec))\n",
    "    mat.append(vec)\n",
    "\n",
    "# Print the matrix to check the values\n",
    "print(\"Matrix of shared trigrams:\")\n",
    "for row in mat:\n",
    "    print(row)\n",
    "\n",
    "# Convert the matrix to DataFrame\n",
    "lang = ['deu', 'eng', 'fra', 'ita', 'por', 'spa']\n",
    "conf_matrix_df = pd.DataFrame(mat, columns=lang, index=lang)\n",
    "\n",
    "# Check for NaN values in the DataFrame\n",
    "print(\"\\nNaN values in the DataFrame:\")\n",
    "print(conf_matrix_df.isna().sum().sum())  # Check total number of NaNs\n",
    "\n",
    "# Replace NaN values with 0\n",
    "conf_matrix_df = conf_matrix_df.fillna(0)\n",
    "\n",
    "# Create mask for the upper triangle\n",
    "mask = np.triu(np.ones_like(conf_matrix_df, dtype=bool), k=1)\n",
    "\n",
    "# Plot heatmap\n",
    "plt.figure(figsize=(10, 10), facecolor='w', edgecolor='k')\n",
    "sns.set(font_scale=1.5)\n",
    "sns.heatmap(conf_matrix_df, cmap='coolwarm', annot=True, fmt='d', cbar=False, mask=mask)\n",
    "\n",
    "plt.savefig('../figures/feat_explore.png', format='png', dpi=150)\n",
    "plt.show()"
   ]
  },
  {
   "cell_type": "markdown",
   "metadata": {},
   "source": [
    "## Modelling - Hyper-parameter tunning"
   ]
  },
  {
   "cell_type": "code",
   "execution_count": 66,
   "metadata": {},
   "outputs": [
    {
     "name": "stdout",
     "output_type": "stream",
     "text": [
      "210000 60000 30000\n"
     ]
    },
    {
     "data": {
      "text/html": [
       "<div>\n",
       "<style scoped>\n",
       "    .dataframe tbody tr th:only-of-type {\n",
       "        vertical-align: middle;\n",
       "    }\n",
       "\n",
       "    .dataframe tbody tr th {\n",
       "        vertical-align: top;\n",
       "    }\n",
       "\n",
       "    .dataframe thead th {\n",
       "        text-align: right;\n",
       "    }\n",
       "</style>\n",
       "<table border=\"1\" class=\"dataframe\">\n",
       "  <thead>\n",
       "    <tr style=\"text-align: right;\">\n",
       "      <th></th>\n",
       "      <th>une</th>\n",
       "      <th>a</th>\n",
       "      <th>ass</th>\n",
       "      <th>ocê</th>\n",
       "      <th>bei</th>\n",
       "      <th>t m</th>\n",
       "      <th>y</th>\n",
       "      <th>n b</th>\n",
       "      <th>ade</th>\n",
       "      <th>y s</th>\n",
       "      <th>...</th>\n",
       "      <th>ti</th>\n",
       "      <th>'s</th>\n",
       "      <th>fr</th>\n",
       "      <th>sen</th>\n",
       "      <th>ois</th>\n",
       "      <th>to.</th>\n",
       "      <th>mit</th>\n",
       "      <th>eux</th>\n",
       "      <th>nho</th>\n",
       "      <th>lang</th>\n",
       "    </tr>\n",
       "  </thead>\n",
       "  <tbody>\n",
       "    <tr>\n",
       "      <th>0</th>\n",
       "      <td>0.0</td>\n",
       "      <td>0.000000</td>\n",
       "      <td>0.0</td>\n",
       "      <td>0.0</td>\n",
       "      <td>0.0</td>\n",
       "      <td>0.0</td>\n",
       "      <td>0.0</td>\n",
       "      <td>0.0</td>\n",
       "      <td>0.0</td>\n",
       "      <td>0.0</td>\n",
       "      <td>...</td>\n",
       "      <td>0.0</td>\n",
       "      <td>0.0</td>\n",
       "      <td>0.0</td>\n",
       "      <td>0.0</td>\n",
       "      <td>0.0</td>\n",
       "      <td>0.0</td>\n",
       "      <td>0.0</td>\n",
       "      <td>0.000000</td>\n",
       "      <td>0.0</td>\n",
       "      <td>deu</td>\n",
       "    </tr>\n",
       "    <tr>\n",
       "      <th>1</th>\n",
       "      <td>0.0</td>\n",
       "      <td>0.000000</td>\n",
       "      <td>0.0</td>\n",
       "      <td>0.0</td>\n",
       "      <td>0.0</td>\n",
       "      <td>0.0</td>\n",
       "      <td>0.0</td>\n",
       "      <td>0.0</td>\n",
       "      <td>0.0</td>\n",
       "      <td>0.0</td>\n",
       "      <td>...</td>\n",
       "      <td>0.0</td>\n",
       "      <td>0.0</td>\n",
       "      <td>0.0</td>\n",
       "      <td>0.0</td>\n",
       "      <td>0.0</td>\n",
       "      <td>0.0</td>\n",
       "      <td>0.0</td>\n",
       "      <td>0.000000</td>\n",
       "      <td>0.0</td>\n",
       "      <td>fra</td>\n",
       "    </tr>\n",
       "    <tr>\n",
       "      <th>2</th>\n",
       "      <td>0.0</td>\n",
       "      <td>0.000000</td>\n",
       "      <td>0.0</td>\n",
       "      <td>0.0</td>\n",
       "      <td>0.0</td>\n",
       "      <td>0.0</td>\n",
       "      <td>0.0</td>\n",
       "      <td>0.0</td>\n",
       "      <td>0.0</td>\n",
       "      <td>0.0</td>\n",
       "      <td>...</td>\n",
       "      <td>0.0</td>\n",
       "      <td>0.0</td>\n",
       "      <td>0.0</td>\n",
       "      <td>0.0</td>\n",
       "      <td>0.0</td>\n",
       "      <td>0.0</td>\n",
       "      <td>0.0</td>\n",
       "      <td>0.333333</td>\n",
       "      <td>0.0</td>\n",
       "      <td>fra</td>\n",
       "    </tr>\n",
       "    <tr>\n",
       "      <th>3</th>\n",
       "      <td>0.0</td>\n",
       "      <td>0.166667</td>\n",
       "      <td>0.0</td>\n",
       "      <td>0.0</td>\n",
       "      <td>0.0</td>\n",
       "      <td>0.0</td>\n",
       "      <td>0.0</td>\n",
       "      <td>0.0</td>\n",
       "      <td>0.0</td>\n",
       "      <td>0.0</td>\n",
       "      <td>...</td>\n",
       "      <td>0.0</td>\n",
       "      <td>0.0</td>\n",
       "      <td>0.0</td>\n",
       "      <td>0.0</td>\n",
       "      <td>0.0</td>\n",
       "      <td>0.5</td>\n",
       "      <td>0.0</td>\n",
       "      <td>0.000000</td>\n",
       "      <td>0.0</td>\n",
       "      <td>por</td>\n",
       "    </tr>\n",
       "    <tr>\n",
       "      <th>4</th>\n",
       "      <td>0.0</td>\n",
       "      <td>0.000000</td>\n",
       "      <td>0.0</td>\n",
       "      <td>0.0</td>\n",
       "      <td>0.0</td>\n",
       "      <td>0.0</td>\n",
       "      <td>0.0</td>\n",
       "      <td>0.0</td>\n",
       "      <td>0.0</td>\n",
       "      <td>0.0</td>\n",
       "      <td>...</td>\n",
       "      <td>0.0</td>\n",
       "      <td>0.0</td>\n",
       "      <td>0.0</td>\n",
       "      <td>0.0</td>\n",
       "      <td>0.0</td>\n",
       "      <td>0.0</td>\n",
       "      <td>0.0</td>\n",
       "      <td>0.000000</td>\n",
       "      <td>0.0</td>\n",
       "      <td>fra</td>\n",
       "    </tr>\n",
       "  </tbody>\n",
       "</table>\n",
       "<p>5 rows × 662 columns</p>\n",
       "</div>"
      ],
      "text/plain": [
       "   une        a   ass  ocê  bei  t m   y   n b  ade  y s  ...   ti  's    fr  \\\n",
       "0  0.0  0.000000  0.0  0.0  0.0  0.0  0.0  0.0  0.0  0.0  ...  0.0  0.0  0.0   \n",
       "1  0.0  0.000000  0.0  0.0  0.0  0.0  0.0  0.0  0.0  0.0  ...  0.0  0.0  0.0   \n",
       "2  0.0  0.000000  0.0  0.0  0.0  0.0  0.0  0.0  0.0  0.0  ...  0.0  0.0  0.0   \n",
       "3  0.0  0.166667  0.0  0.0  0.0  0.0  0.0  0.0  0.0  0.0  ...  0.0  0.0  0.0   \n",
       "4  0.0  0.000000  0.0  0.0  0.0  0.0  0.0  0.0  0.0  0.0  ...  0.0  0.0  0.0   \n",
       "\n",
       "   sen  ois  to.  mit       eux  nho  lang  \n",
       "0  0.0  0.0  0.0  0.0  0.000000  0.0   deu  \n",
       "1  0.0  0.0  0.0  0.0  0.000000  0.0   fra  \n",
       "2  0.0  0.0  0.0  0.0  0.333333  0.0   fra  \n",
       "3  0.0  0.0  0.5  0.0  0.000000  0.0   por  \n",
       "4  0.0  0.0  0.0  0.0  0.000000  0.0   fra  \n",
       "\n",
       "[5 rows x 662 columns]"
      ]
     },
     "execution_count": 66,
     "metadata": {},
     "output_type": "execute_result"
    }
   ],
   "source": [
    "train_feat = pd.read_csv(data_path + '/language_classification/train_feat.csv', index_col =0)\n",
    "valid_feat = pd.read_csv(data_path + '/language_classification/valid_feat.csv', index_col =0)\n",
    "test_feat = pd.read_csv(data_path + '/language_classification/test_feat.csv', index_col =0)\n",
    "print(len(train_feat),len(valid_feat),len(test_feat))\n",
    "train_feat.head()"
   ]
  },
  {
   "cell_type": "code",
   "execution_count": 67,
   "metadata": {},
   "outputs": [],
   "source": [
    "from sklearn.preprocessing import LabelEncoder\n",
    "from keras.utils import np_utils\n",
    "\n",
    "# Fit encoder\n",
    "encoder = LabelEncoder()\n",
    "encoder.fit(['deu', 'eng', 'fra', 'ita', 'por', 'spa'])\n",
    "\n",
    "def encode(y):\n",
    "    \"\"\"\n",
    "    Returns a list of one hot encodings \n",
    "    \n",
    "    Params\n",
    "    ---------\n",
    "        y: list of language labels\n",
    "    \"\"\"\n",
    "    \n",
    "    y_encoded = encoder.transform(y)\n",
    "    y_dummy = np_utils.to_categorical(y_encoded)\n",
    "    \n",
    "    return y_dummy"
   ]
  },
  {
   "cell_type": "code",
   "execution_count": 68,
   "metadata": {},
   "outputs": [],
   "source": [
    "from keras.models import Sequential\n",
    "from keras.layers import Dense\n",
    "\n",
    "x = train_feat.drop('lang',axis=1)\n",
    "y = encode(train_feat['lang'])\n",
    "\n",
    "x_val = valid_feat.drop('lang',axis=1)\n",
    "y_val = encode(valid_feat['lang'])"
   ]
  },
  {
   "cell_type": "code",
   "execution_count": 69,
   "metadata": {},
   "outputs": [],
   "source": [
    "def fit_model(nodes,epochs,batch_size):\n",
    "    model = Sequential()\n",
    "    model.add(Dense(nodes[0], input_dim=661, activation='relu'))\n",
    "    model.add(Dense(nodes[1], activation='relu'))\n",
    "    model.add(Dense(nodes[2], activation='relu'))\n",
    "    model.add(Dense(6, activation='softmax'))\n",
    "    model.compile(loss='categorical_crossentropy', optimizer='adam', metrics=['accuracy'])\n",
    "\n",
    "    model.fit(x, y, epochs=epochs, batch_size=batch_size) #fit ANN\n",
    "    \n",
    "    train_acc = model.evaluate(x, y)\n",
    "    val_acc = model.evaluate(x_val, y_val)\n",
    "    \n",
    "    return round(train_acc[1]*100,2),round(val_acc[1]*100,2)"
   ]
  },
  {
   "cell_type": "code",
   "execution_count": 70,
   "metadata": {},
   "outputs": [
    {
     "name": "stdout",
     "output_type": "stream",
     "text": [
      "MODEL:  0\n"
     ]
    },
    {
     "name": "stderr",
     "output_type": "stream",
     "text": [
      "2024-07-05 14:49:45.871881: I tensorflow/core/grappler/optimizers/custom_graph_optimizer_registry.cc:113] Plugin optimizer for device_type GPU is enabled.\n"
     ]
    },
    {
     "name": "stdout",
     "output_type": "stream",
     "text": [
      "21000/21000 [==============================] - 207s 10ms/step - loss: 0.0703 - accuracy: 0.9752\n",
      "  12/6563 [..............................] - ETA: 1:04 - loss: 0.0417 - accuracy: 0.9818"
     ]
    },
    {
     "name": "stderr",
     "output_type": "stream",
     "text": [
      "2024-07-05 14:53:14.250467: I tensorflow/core/grappler/optimizers/custom_graph_optimizer_registry.cc:113] Plugin optimizer for device_type GPU is enabled.\n"
     ]
    },
    {
     "name": "stdout",
     "output_type": "stream",
     "text": [
      "6563/6563 [==============================] - 68s 10ms/step - loss: 0.0390 - accuracy: 0.9865\n",
      "1875/1875 [==============================] - 21s 11ms/step - loss: 0.0508 - accuracy: 0.9816\n"
     ]
    },
    {
     "name": "stderr",
     "output_type": "stream",
     "text": [
      "2024-07-05 14:54:45.166816: I tensorflow/core/grappler/optimizers/custom_graph_optimizer_registry.cc:113] Plugin optimizer for device_type GPU is enabled.\n"
     ]
    },
    {
     "name": "stdout",
     "output_type": "stream",
     "text": [
      "2100/2100 [==============================] - 23s 11ms/step - loss: 0.0926 - accuracy: 0.9710\n",
      "   1/6563 [..............................] - ETA: 27:18 - loss: 0.0793 - accuracy: 0.9375"
     ]
    },
    {
     "name": "stderr",
     "output_type": "stream",
     "text": [
      "2024-07-05 14:55:09.535794: I tensorflow/core/grappler/optimizers/custom_graph_optimizer_registry.cc:113] Plugin optimizer for device_type GPU is enabled.\n"
     ]
    },
    {
     "name": "stdout",
     "output_type": "stream",
     "text": [
      "6563/6563 [==============================] - 67s 10ms/step - loss: 0.0376 - accuracy: 0.9864\n",
      "1875/1875 [==============================] - 18s 10ms/step - loss: 0.0458 - accuracy: 0.9833\n",
      "  1/210 [..............................] - ETA: 1:13 - loss: 1.7915 - accuracy: 0.1910"
     ]
    },
    {
     "name": "stderr",
     "output_type": "stream",
     "text": [
      "2024-07-05 14:56:36.411267: I tensorflow/core/grappler/optimizers/custom_graph_optimizer_registry.cc:113] Plugin optimizer for device_type GPU is enabled.\n"
     ]
    },
    {
     "name": "stdout",
     "output_type": "stream",
     "text": [
      "210/210 [==============================] - 3s 12ms/step - loss: 0.3250 - accuracy: 0.9256\n",
      "   6/6563 [..............................] - ETA: 1:15 - loss: 0.0408 - accuracy: 0.9844 "
     ]
    },
    {
     "name": "stderr",
     "output_type": "stream",
     "text": [
      "2024-07-05 14:56:40.365294: I tensorflow/core/grappler/optimizers/custom_graph_optimizer_registry.cc:113] Plugin optimizer for device_type GPU is enabled.\n"
     ]
    },
    {
     "name": "stdout",
     "output_type": "stream",
     "text": [
      "6563/6563 [==============================] - 69s 11ms/step - loss: 0.0493 - accuracy: 0.9831\n",
      "1875/1875 [==============================] - 19s 10ms/step - loss: 0.0547 - accuracy: 0.9806\n",
      "Epoch 1/2\n",
      "    1/21000 [..............................] - ETA: 2:07:18 - loss: 1.7834 - accuracy: 0.3000"
     ]
    },
    {
     "name": "stderr",
     "output_type": "stream",
     "text": [
      "2024-07-05 14:58:11.021132: I tensorflow/core/grappler/optimizers/custom_graph_optimizer_registry.cc:113] Plugin optimizer for device_type GPU is enabled.\n"
     ]
    },
    {
     "name": "stdout",
     "output_type": "stream",
     "text": [
      "21000/21000 [==============================] - 215s 10ms/step - loss: 0.0698 - accuracy: 0.9755\n",
      "Epoch 2/2\n",
      "21000/21000 [==============================] - 210s 10ms/step - loss: 0.0396 - accuracy: 0.9858\n",
      "   6/6563 [..............................] - ETA: 1:14 - loss: 0.0226 - accuracy: 0.9948 "
     ]
    },
    {
     "name": "stderr",
     "output_type": "stream",
     "text": [
      "2024-07-05 15:05:16.929241: I tensorflow/core/grappler/optimizers/custom_graph_optimizer_registry.cc:113] Plugin optimizer for device_type GPU is enabled.\n"
     ]
    },
    {
     "name": "stdout",
     "output_type": "stream",
     "text": [
      "6563/6563 [==============================] - 64s 10ms/step - loss: 0.0238 - accuracy: 0.9916\n",
      "1875/1875 [==============================] - 19s 10ms/step - loss: 0.0417 - accuracy: 0.9855\n",
      "Epoch 1/2\n"
     ]
    },
    {
     "name": "stderr",
     "output_type": "stream",
     "text": [
      "2024-07-05 15:06:41.679179: I tensorflow/core/grappler/optimizers/custom_graph_optimizer_registry.cc:113] Plugin optimizer for device_type GPU is enabled.\n"
     ]
    },
    {
     "name": "stdout",
     "output_type": "stream",
     "text": [
      "2100/2100 [==============================] - 24s 11ms/step - loss: 0.0925 - accuracy: 0.9703\n",
      "Epoch 2/2\n",
      "2100/2100 [==============================] - 22s 11ms/step - loss: 0.0411 - accuracy: 0.9848\n",
      "  12/6563 [..............................] - ETA: 1:04 - loss: 0.0298 - accuracy: 0.9870"
     ]
    },
    {
     "name": "stderr",
     "output_type": "stream",
     "text": [
      "2024-07-05 15:07:29.056435: I tensorflow/core/grappler/optimizers/custom_graph_optimizer_registry.cc:113] Plugin optimizer for device_type GPU is enabled.\n"
     ]
    },
    {
     "name": "stdout",
     "output_type": "stream",
     "text": [
      "6563/6563 [==============================] - 63s 10ms/step - loss: 0.0323 - accuracy: 0.9882\n",
      "1875/1875 [==============================] - 18s 9ms/step - loss: 0.0442 - accuracy: 0.9837\n",
      "Epoch 1/2\n",
      "  1/210 [..............................] - ETA: 1:07 - loss: 1.7908 - accuracy: 0.2100"
     ]
    },
    {
     "name": "stderr",
     "output_type": "stream",
     "text": [
      "2024-07-05 15:08:50.960804: I tensorflow/core/grappler/optimizers/custom_graph_optimizer_registry.cc:113] Plugin optimizer for device_type GPU is enabled.\n"
     ]
    },
    {
     "name": "stdout",
     "output_type": "stream",
     "text": [
      "210/210 [==============================] - 3s 12ms/step - loss: 0.3226 - accuracy: 0.9259\n",
      "Epoch 2/2\n",
      "210/210 [==============================] - 2s 11ms/step - loss: 0.0443 - accuracy: 0.9842\n",
      "  12/6563 [..............................] - ETA: 1:02 - loss: 0.0343 - accuracy: 0.9870"
     ]
    },
    {
     "name": "stderr",
     "output_type": "stream",
     "text": [
      "2024-07-05 15:08:57.114778: I tensorflow/core/grappler/optimizers/custom_graph_optimizer_registry.cc:113] Plugin optimizer for device_type GPU is enabled.\n"
     ]
    },
    {
     "name": "stdout",
     "output_type": "stream",
     "text": [
      "6563/6563 [==============================] - 62s 9ms/step - loss: 0.0377 - accuracy: 0.9864\n",
      "1875/1875 [==============================] - 18s 9ms/step - loss: 0.0437 - accuracy: 0.9843\n",
      "Epoch 1/3\n",
      "    1/21000 [..............................] - ETA: 1:47:20 - loss: 1.8032 - accuracy: 0.2000"
     ]
    },
    {
     "name": "stderr",
     "output_type": "stream",
     "text": [
      "2024-07-05 15:10:18.910561: I tensorflow/core/grappler/optimizers/custom_graph_optimizer_registry.cc:113] Plugin optimizer for device_type GPU is enabled.\n"
     ]
    },
    {
     "name": "stdout",
     "output_type": "stream",
     "text": [
      "21000/21000 [==============================] - 208s 10ms/step - loss: 0.0698 - accuracy: 0.9756\n",
      "Epoch 2/3\n",
      "21000/21000 [==============================] - 221s 11ms/step - loss: 0.0393 - accuracy: 0.9857\n",
      "Epoch 3/3\n",
      "21000/21000 [==============================] - 216s 10ms/step - loss: 0.0291 - accuracy: 0.9898\n",
      "  11/6563 [..............................] - ETA: 1:12 - loss: 0.0211 - accuracy: 0.9886"
     ]
    },
    {
     "name": "stderr",
     "output_type": "stream",
     "text": [
      "2024-07-05 15:21:04.592486: I tensorflow/core/grappler/optimizers/custom_graph_optimizer_registry.cc:113] Plugin optimizer for device_type GPU is enabled.\n"
     ]
    },
    {
     "name": "stdout",
     "output_type": "stream",
     "text": [
      "6563/6563 [==============================] - 63s 10ms/step - loss: 0.0187 - accuracy: 0.9940\n",
      "1875/1875 [==============================] - 18s 10ms/step - loss: 0.0411 - accuracy: 0.9851\n",
      "Epoch 1/3\n",
      "   1/2100 [..............................] - ETA: 9:59 - loss: 1.7928 - accuracy: 0.1700"
     ]
    },
    {
     "name": "stderr",
     "output_type": "stream",
     "text": [
      "2024-07-05 15:22:27.483784: I tensorflow/core/grappler/optimizers/custom_graph_optimizer_registry.cc:113] Plugin optimizer for device_type GPU is enabled.\n"
     ]
    },
    {
     "name": "stdout",
     "output_type": "stream",
     "text": [
      "2100/2100 [==============================] - 22s 10ms/step - loss: 0.0921 - accuracy: 0.9714\n",
      "Epoch 2/3\n",
      "2100/2100 [==============================] - 21s 10ms/step - loss: 0.0416 - accuracy: 0.9847\n",
      "Epoch 3/3\n",
      "2100/2100 [==============================] - 21s 10ms/step - loss: 0.0346 - accuracy: 0.9872\n",
      "  12/6563 [..............................] - ETA: 1:03 - loss: 0.0288 - accuracy: 0.9844"
     ]
    },
    {
     "name": "stderr",
     "output_type": "stream",
     "text": [
      "2024-07-05 15:23:32.215269: I tensorflow/core/grappler/optimizers/custom_graph_optimizer_registry.cc:113] Plugin optimizer for device_type GPU is enabled.\n"
     ]
    },
    {
     "name": "stdout",
     "output_type": "stream",
     "text": [
      "6563/6563 [==============================] - 63s 10ms/step - loss: 0.0254 - accuracy: 0.9907\n",
      "1875/1875 [==============================] - 18s 10ms/step - loss: 0.0430 - accuracy: 0.9846\n",
      "Epoch 1/3\n",
      "  1/210 [..............................] - ETA: 1:07 - loss: 1.7914 - accuracy: 0.1960"
     ]
    },
    {
     "name": "stderr",
     "output_type": "stream",
     "text": [
      "2024-07-05 15:24:54.758101: I tensorflow/core/grappler/optimizers/custom_graph_optimizer_registry.cc:113] Plugin optimizer for device_type GPU is enabled.\n"
     ]
    },
    {
     "name": "stdout",
     "output_type": "stream",
     "text": [
      "210/210 [==============================] - 3s 12ms/step - loss: 0.3201 - accuracy: 0.9333\n",
      "Epoch 2/3\n",
      "210/210 [==============================] - 2s 12ms/step - loss: 0.0442 - accuracy: 0.9840\n",
      "Epoch 3/3\n",
      "210/210 [==============================] - 2s 12ms/step - loss: 0.0383 - accuracy: 0.9859\n",
      "  11/6563 [..............................] - ETA: 1:12 - loss: 0.0376 - accuracy: 0.9830"
     ]
    },
    {
     "name": "stderr",
     "output_type": "stream",
     "text": [
      "2024-07-05 15:25:03.329989: I tensorflow/core/grappler/optimizers/custom_graph_optimizer_registry.cc:113] Plugin optimizer for device_type GPU is enabled.\n"
     ]
    },
    {
     "name": "stdout",
     "output_type": "stream",
     "text": [
      "6563/6563 [==============================] - 67s 10ms/step - loss: 0.0327 - accuracy: 0.9881\n",
      "1875/1875 [==============================] - 19s 10ms/step - loss: 0.0410 - accuracy: 0.9849\n",
      "Epoch 1/4\n",
      "    1/21000 [..............................] - ETA: 13:05:38 - loss: 1.7996 - accuracy: 0.1000"
     ]
    },
    {
     "name": "stderr",
     "output_type": "stream",
     "text": [
      "2024-07-05 15:26:32.409763: I tensorflow/core/grappler/optimizers/custom_graph_optimizer_registry.cc:113] Plugin optimizer for device_type GPU is enabled.\n"
     ]
    },
    {
     "name": "stdout",
     "output_type": "stream",
     "text": [
      "21000/21000 [==============================] - 207s 10ms/step - loss: 0.0695 - accuracy: 0.9759\n",
      "Epoch 2/4\n",
      "21000/21000 [==============================] - 212s 10ms/step - loss: 0.0403 - accuracy: 0.9857\n",
      "Epoch 3/4\n",
      "21000/21000 [==============================] - 206s 10ms/step - loss: 0.0293 - accuracy: 0.9896\n",
      "Epoch 4/4\n",
      "21000/21000 [==============================] - 206s 10ms/step - loss: 0.0213 - accuracy: 0.9925\n",
      "   6/6563 [..............................] - ETA: 1:11 - loss: 0.0131 - accuracy: 0.9948 "
     ]
    },
    {
     "name": "stderr",
     "output_type": "stream",
     "text": [
      "2024-07-05 15:40:22.422302: I tensorflow/core/grappler/optimizers/custom_graph_optimizer_registry.cc:113] Plugin optimizer for device_type GPU is enabled.\n"
     ]
    },
    {
     "name": "stdout",
     "output_type": "stream",
     "text": [
      "6563/6563 [==============================] - 64s 10ms/step - loss: 0.0129 - accuracy: 0.9954\n",
      "1875/1875 [==============================] - 19s 10ms/step - loss: 0.0462 - accuracy: 0.9856\n",
      "Epoch 1/4\n",
      "   1/2100 [..............................] - ETA: 11:07 - loss: 1.7926 - accuracy: 0.2100"
     ]
    },
    {
     "name": "stderr",
     "output_type": "stream",
     "text": [
      "2024-07-05 15:41:46.184928: I tensorflow/core/grappler/optimizers/custom_graph_optimizer_registry.cc:113] Plugin optimizer for device_type GPU is enabled.\n"
     ]
    },
    {
     "name": "stdout",
     "output_type": "stream",
     "text": [
      "2100/2100 [==============================] - 21s 10ms/step - loss: 0.0931 - accuracy: 0.9709\n",
      "Epoch 2/4\n",
      "2100/2100 [==============================] - 21s 10ms/step - loss: 0.0412 - accuracy: 0.9849\n",
      "Epoch 3/4\n",
      "2100/2100 [==============================] - 21s 10ms/step - loss: 0.0345 - accuracy: 0.9872\n",
      "Epoch 4/4\n",
      "2100/2100 [==============================] - 21s 10ms/step - loss: 0.0275 - accuracy: 0.9897\n",
      "  12/6563 [..............................] - ETA: 1:05 - loss: 0.0142 - accuracy: 0.9974"
     ]
    },
    {
     "name": "stderr",
     "output_type": "stream",
     "text": [
      "2024-07-05 15:43:12.057613: I tensorflow/core/grappler/optimizers/custom_graph_optimizer_registry.cc:113] Plugin optimizer for device_type GPU is enabled.\n"
     ]
    },
    {
     "name": "stdout",
     "output_type": "stream",
     "text": [
      "6563/6563 [==============================] - 69s 11ms/step - loss: 0.0209 - accuracy: 0.9923\n",
      "1875/1875 [==============================] - 18s 10ms/step - loss: 0.0429 - accuracy: 0.9849\n",
      "Epoch 1/4\n",
      "  1/210 [..............................] - ETA: 1:03 - loss: 1.7911 - accuracy: 0.1920"
     ]
    },
    {
     "name": "stderr",
     "output_type": "stream",
     "text": [
      "2024-07-05 15:44:41.477208: I tensorflow/core/grappler/optimizers/custom_graph_optimizer_registry.cc:113] Plugin optimizer for device_type GPU is enabled.\n"
     ]
    },
    {
     "name": "stdout",
     "output_type": "stream",
     "text": [
      "210/210 [==============================] - 3s 11ms/step - loss: 0.3227 - accuracy: 0.9302\n",
      "Epoch 2/4\n",
      "210/210 [==============================] - 2s 11ms/step - loss: 0.0444 - accuracy: 0.9840\n",
      "Epoch 3/4\n",
      "210/210 [==============================] - 2s 12ms/step - loss: 0.0388 - accuracy: 0.9858\n",
      "Epoch 4/4\n",
      "210/210 [==============================] - 2s 11ms/step - loss: 0.0362 - accuracy: 0.9867\n",
      "  11/6563 [..............................] - ETA: 1:10 - loss: 0.0377 - accuracy: 0.9830"
     ]
    },
    {
     "name": "stderr",
     "output_type": "stream",
     "text": [
      "2024-07-05 15:44:52.764909: I tensorflow/core/grappler/optimizers/custom_graph_optimizer_registry.cc:113] Plugin optimizer for device_type GPU is enabled.\n"
     ]
    },
    {
     "name": "stdout",
     "output_type": "stream",
     "text": [
      "6563/6563 [==============================] - 65s 10ms/step - loss: 0.0323 - accuracy: 0.9882\n",
      "1875/1875 [==============================] - 19s 10ms/step - loss: 0.0424 - accuracy: 0.9841\n",
      "MODEL:  12\n"
     ]
    },
    {
     "name": "stderr",
     "output_type": "stream",
     "text": [
      "2024-07-05 15:46:18.902372: I tensorflow/core/grappler/optimizers/custom_graph_optimizer_registry.cc:113] Plugin optimizer for device_type GPU is enabled.\n"
     ]
    },
    {
     "name": "stdout",
     "output_type": "stream",
     "text": [
      "21000/21000 [==============================] - 217s 10ms/step - loss: 0.0699 - accuracy: 0.9756\n",
      "   6/6563 [..............................] - ETA: 1:12 - loss: 0.0277 - accuracy: 0.9948 "
     ]
    },
    {
     "name": "stderr",
     "output_type": "stream",
     "text": [
      "2024-07-05 15:49:56.868946: I tensorflow/core/grappler/optimizers/custom_graph_optimizer_registry.cc:113] Plugin optimizer for device_type GPU is enabled.\n"
     ]
    },
    {
     "name": "stdout",
     "output_type": "stream",
     "text": [
      "6563/6563 [==============================] - 68s 10ms/step - loss: 0.0348 - accuracy: 0.9876\n",
      "1875/1875 [==============================] - 20s 11ms/step - loss: 0.0480 - accuracy: 0.9832\n"
     ]
    },
    {
     "name": "stderr",
     "output_type": "stream",
     "text": [
      "2024-07-05 15:51:27.273196: I tensorflow/core/grappler/optimizers/custom_graph_optimizer_registry.cc:113] Plugin optimizer for device_type GPU is enabled.\n"
     ]
    },
    {
     "name": "stdout",
     "output_type": "stream",
     "text": [
      "2100/2100 [==============================] - 22s 10ms/step - loss: 0.0826 - accuracy: 0.9736\n",
      "  12/6563 [..............................] - ETA: 1:06 - loss: 0.0576 - accuracy: 0.9844"
     ]
    },
    {
     "name": "stderr",
     "output_type": "stream",
     "text": [
      "2024-07-05 15:51:50.581933: I tensorflow/core/grappler/optimizers/custom_graph_optimizer_registry.cc:113] Plugin optimizer for device_type GPU is enabled.\n"
     ]
    },
    {
     "name": "stdout",
     "output_type": "stream",
     "text": [
      "6563/6563 [==============================] - 66s 10ms/step - loss: 0.0386 - accuracy: 0.9858\n",
      "1875/1875 [==============================] - 18s 10ms/step - loss: 0.0486 - accuracy: 0.9824\n"
     ]
    },
    {
     "name": "stderr",
     "output_type": "stream",
     "text": [
      "2024-07-05 15:53:16.083821: I tensorflow/core/grappler/optimizers/custom_graph_optimizer_registry.cc:113] Plugin optimizer for device_type GPU is enabled.\n"
     ]
    },
    {
     "name": "stdout",
     "output_type": "stream",
     "text": [
      "210/210 [==============================] - 3s 12ms/step - loss: 0.2335 - accuracy: 0.9488\n",
      "  12/6563 [..............................] - ETA: 1:07 - loss: 0.0459 - accuracy: 0.9766"
     ]
    },
    {
     "name": "stderr",
     "output_type": "stream",
     "text": [
      "2024-07-05 15:53:20.175728: I tensorflow/core/grappler/optimizers/custom_graph_optimizer_registry.cc:113] Plugin optimizer for device_type GPU is enabled.\n"
     ]
    },
    {
     "name": "stdout",
     "output_type": "stream",
     "text": [
      "6563/6563 [==============================] - 66s 10ms/step - loss: 0.0442 - accuracy: 0.9839\n",
      "1875/1875 [==============================] - 18s 10ms/step - loss: 0.0513 - accuracy: 0.9807\n",
      "Epoch 1/2\n",
      "    1/21000 [..............................] - ETA: 1:45:47 - loss: 1.7901 - accuracy: 0.3000"
     ]
    },
    {
     "name": "stderr",
     "output_type": "stream",
     "text": [
      "2024-07-05 15:54:46.235828: I tensorflow/core/grappler/optimizers/custom_graph_optimizer_registry.cc:113] Plugin optimizer for device_type GPU is enabled.\n"
     ]
    },
    {
     "name": "stdout",
     "output_type": "stream",
     "text": [
      "21000/21000 [==============================] - 213s 10ms/step - loss: 0.0702 - accuracy: 0.9754\n",
      "Epoch 2/2\n",
      "21000/21000 [==============================] - 219s 10ms/step - loss: 0.0384 - accuracy: 0.9867\n",
      "   7/6563 [..............................] - ETA: 1:02 - loss: 0.0219 - accuracy: 0.9911 "
     ]
    },
    {
     "name": "stderr",
     "output_type": "stream",
     "text": [
      "2024-07-05 16:01:58.963306: I tensorflow/core/grappler/optimizers/custom_graph_optimizer_registry.cc:113] Plugin optimizer for device_type GPU is enabled.\n"
     ]
    },
    {
     "name": "stdout",
     "output_type": "stream",
     "text": [
      "6563/6563 [==============================] - 65s 10ms/step - loss: 0.0283 - accuracy: 0.9896\n",
      "1875/1875 [==============================] - 19s 10ms/step - loss: 0.0524 - accuracy: 0.9830\n",
      "Epoch 1/2\n",
      "   1/2100 [..............................] - ETA: 11:32 - loss: 1.7882 - accuracy: 0.2200"
     ]
    },
    {
     "name": "stderr",
     "output_type": "stream",
     "text": [
      "2024-07-05 16:03:24.603100: I tensorflow/core/grappler/optimizers/custom_graph_optimizer_registry.cc:113] Plugin optimizer for device_type GPU is enabled.\n"
     ]
    },
    {
     "name": "stdout",
     "output_type": "stream",
     "text": [
      "2100/2100 [==============================] - 22s 10ms/step - loss: 0.0818 - accuracy: 0.9734\n",
      "Epoch 2/2\n",
      "2100/2100 [==============================] - 24s 11ms/step - loss: 0.0393 - accuracy: 0.9854\n",
      "   1/6563 [..............................] - ETA: 24:15 - loss: 0.0420 - accuracy: 1.0000"
     ]
    },
    {
     "name": "stderr",
     "output_type": "stream",
     "text": [
      "2024-07-05 16:04:11.636438: I tensorflow/core/grappler/optimizers/custom_graph_optimizer_registry.cc:113] Plugin optimizer for device_type GPU is enabled.\n"
     ]
    },
    {
     "name": "stdout",
     "output_type": "stream",
     "text": [
      "6563/6563 [==============================] - 66s 10ms/step - loss: 0.0266 - accuracy: 0.9907\n",
      "1875/1875 [==============================] - 18s 10ms/step - loss: 0.0409 - accuracy: 0.9848\n",
      "Epoch 1/2\n",
      "  1/210 [..............................] - ETA: 1:18 - loss: 1.7921 - accuracy: 0.1730"
     ]
    },
    {
     "name": "stderr",
     "output_type": "stream",
     "text": [
      "2024-07-05 16:05:36.940403: I tensorflow/core/grappler/optimizers/custom_graph_optimizer_registry.cc:113] Plugin optimizer for device_type GPU is enabled.\n"
     ]
    },
    {
     "name": "stdout",
     "output_type": "stream",
     "text": [
      "210/210 [==============================] - 3s 12ms/step - loss: 0.2323 - accuracy: 0.9482\n",
      "Epoch 2/2\n",
      "210/210 [==============================] - 3s 12ms/step - loss: 0.0419 - accuracy: 0.9845\n",
      "   6/6563 [..............................] - ETA: 1:13 - loss: 0.0392 - accuracy: 0.9844 "
     ]
    },
    {
     "name": "stderr",
     "output_type": "stream",
     "text": [
      "2024-07-05 16:05:43.416816: I tensorflow/core/grappler/optimizers/custom_graph_optimizer_registry.cc:113] Plugin optimizer for device_type GPU is enabled.\n"
     ]
    },
    {
     "name": "stdout",
     "output_type": "stream",
     "text": [
      "6563/6563 [==============================] - 63s 10ms/step - loss: 0.0342 - accuracy: 0.9874\n",
      "1875/1875 [==============================] - 18s 10ms/step - loss: 0.0432 - accuracy: 0.9841\n",
      "Epoch 1/3\n",
      "    1/21000 [..............................] - ETA: 1:52:14 - loss: 1.7855 - accuracy: 0.3000"
     ]
    },
    {
     "name": "stderr",
     "output_type": "stream",
     "text": [
      "2024-07-05 16:07:06.638840: I tensorflow/core/grappler/optimizers/custom_graph_optimizer_registry.cc:113] Plugin optimizer for device_type GPU is enabled.\n"
     ]
    },
    {
     "name": "stdout",
     "output_type": "stream",
     "text": [
      "21000/21000 [==============================] - 211s 10ms/step - loss: 0.0698 - accuracy: 0.9756\n",
      "Epoch 2/3\n",
      "21000/21000 [==============================] - 214s 10ms/step - loss: 0.0380 - accuracy: 0.9870\n",
      "Epoch 3/3\n",
      "21000/21000 [==============================] - 219s 10ms/step - loss: 0.0249 - accuracy: 0.9915\n",
      "   6/6563 [..............................] - ETA: 1:11 - loss: 0.0228 - accuracy: 0.9896 "
     ]
    },
    {
     "name": "stderr",
     "output_type": "stream",
     "text": [
      "2024-07-05 16:17:51.617741: I tensorflow/core/grappler/optimizers/custom_graph_optimizer_registry.cc:113] Plugin optimizer for device_type GPU is enabled.\n"
     ]
    },
    {
     "name": "stdout",
     "output_type": "stream",
     "text": [
      "6563/6563 [==============================] - 64s 10ms/step - loss: 0.0155 - accuracy: 0.9953\n",
      "1875/1875 [==============================] - 18s 10ms/step - loss: 0.0436 - accuracy: 0.9862\n",
      "Epoch 1/3\n",
      "   1/2100 [..............................] - ETA: 12:14 - loss: 1.7954 - accuracy: 0.1700"
     ]
    },
    {
     "name": "stderr",
     "output_type": "stream",
     "text": [
      "2024-07-05 16:19:15.361967: I tensorflow/core/grappler/optimizers/custom_graph_optimizer_registry.cc:113] Plugin optimizer for device_type GPU is enabled.\n"
     ]
    },
    {
     "name": "stdout",
     "output_type": "stream",
     "text": [
      "2100/2100 [==============================] - 22s 10ms/step - loss: 0.0828 - accuracy: 0.9728\n",
      "Epoch 2/3\n",
      "2100/2100 [==============================] - 22s 11ms/step - loss: 0.0397 - accuracy: 0.9853\n",
      "Epoch 3/3\n",
      "2100/2100 [==============================] - 23s 11ms/step - loss: 0.0287 - accuracy: 0.9895\n",
      "  11/6563 [..............................] - ETA: 1:11 - loss: 0.0300 - accuracy: 0.9915"
     ]
    },
    {
     "name": "stderr",
     "output_type": "stream",
     "text": [
      "2024-07-05 16:20:23.687936: I tensorflow/core/grappler/optimizers/custom_graph_optimizer_registry.cc:113] Plugin optimizer for device_type GPU is enabled.\n"
     ]
    },
    {
     "name": "stdout",
     "output_type": "stream",
     "text": [
      "6563/6563 [==============================] - 67s 10ms/step - loss: 0.0254 - accuracy: 0.9905\n",
      "1875/1875 [==============================] - 19s 10ms/step - loss: 0.0510 - accuracy: 0.9823\n",
      "Epoch 1/3\n",
      "  1/210 [..............................] - ETA: 1:09 - loss: 1.7928 - accuracy: 0.1490"
     ]
    },
    {
     "name": "stderr",
     "output_type": "stream",
     "text": [
      "2024-07-05 16:21:50.678513: I tensorflow/core/grappler/optimizers/custom_graph_optimizer_registry.cc:113] Plugin optimizer for device_type GPU is enabled.\n"
     ]
    },
    {
     "name": "stdout",
     "output_type": "stream",
     "text": [
      "210/210 [==============================] - 3s 12ms/step - loss: 0.2331 - accuracy: 0.9485\n",
      "Epoch 2/3\n",
      "210/210 [==============================] - 3s 14ms/step - loss: 0.0416 - accuracy: 0.9846\n",
      "Epoch 3/3\n",
      "210/210 [==============================] - 3s 14ms/step - loss: 0.0374 - accuracy: 0.9861\n",
      "  11/6563 [..............................] - ETA: 1:08 - loss: 0.0287 - accuracy: 0.9830"
     ]
    },
    {
     "name": "stderr",
     "output_type": "stream",
     "text": [
      "2024-07-05 16:22:00.622433: I tensorflow/core/grappler/optimizers/custom_graph_optimizer_registry.cc:113] Plugin optimizer for device_type GPU is enabled.\n"
     ]
    },
    {
     "name": "stdout",
     "output_type": "stream",
     "text": [
      "6563/6563 [==============================] - 64s 10ms/step - loss: 0.0306 - accuracy: 0.9889\n",
      "1875/1875 [==============================] - 18s 10ms/step - loss: 0.0418 - accuracy: 0.9844\n",
      "Epoch 1/4\n",
      "    1/21000 [..............................] - ETA: 2:06:02 - loss: 1.7806 - accuracy: 0.2000"
     ]
    },
    {
     "name": "stderr",
     "output_type": "stream",
     "text": [
      "2024-07-05 16:23:25.028492: I tensorflow/core/grappler/optimizers/custom_graph_optimizer_registry.cc:113] Plugin optimizer for device_type GPU is enabled.\n"
     ]
    },
    {
     "name": "stdout",
     "output_type": "stream",
     "text": [
      "21000/21000 [==============================] - 215s 10ms/step - loss: 0.0699 - accuracy: 0.9760\n",
      "Epoch 2/4\n",
      "21000/21000 [==============================] - 220s 10ms/step - loss: 0.0379 - accuracy: 0.9868\n",
      "Epoch 3/4\n",
      "21000/21000 [==============================] - 223s 11ms/step - loss: 0.0259 - accuracy: 0.9912\n",
      "Epoch 4/4\n",
      "21000/21000 [==============================] - 223s 11ms/step - loss: 0.0167 - accuracy: 0.9946\n",
      "  11/6563 [..............................] - ETA: 1:10 - loss: 0.0078 - accuracy: 0.9972"
     ]
    },
    {
     "name": "stderr",
     "output_type": "stream",
     "text": [
      "2024-07-05 16:38:06.276201: I tensorflow/core/grappler/optimizers/custom_graph_optimizer_registry.cc:113] Plugin optimizer for device_type GPU is enabled.\n"
     ]
    },
    {
     "name": "stdout",
     "output_type": "stream",
     "text": [
      "6563/6563 [==============================] - 66s 10ms/step - loss: 0.0101 - accuracy: 0.9967\n",
      "1875/1875 [==============================] - 19s 10ms/step - loss: 0.0572 - accuracy: 0.9858\n",
      "Epoch 1/4\n",
      "   1/2100 [..............................] - ETA: 12:57 - loss: 1.7884 - accuracy: 0.2200"
     ]
    },
    {
     "name": "stderr",
     "output_type": "stream",
     "text": [
      "2024-07-05 16:39:32.173593: I tensorflow/core/grappler/optimizers/custom_graph_optimizer_registry.cc:113] Plugin optimizer for device_type GPU is enabled.\n"
     ]
    },
    {
     "name": "stdout",
     "output_type": "stream",
     "text": [
      "2100/2100 [==============================] - 22s 10ms/step - loss: 0.0815 - accuracy: 0.9725\n",
      "Epoch 2/4\n",
      "2100/2100 [==============================] - 22s 10ms/step - loss: 0.0396 - accuracy: 0.9856\n",
      "Epoch 3/4\n",
      "2100/2100 [==============================] - 22s 10ms/step - loss: 0.0293 - accuracy: 0.9892\n",
      "Epoch 4/4\n",
      "2100/2100 [==============================] - 22s 10ms/step - loss: 0.0189 - accuracy: 0.9931\n",
      "   6/6563 [..............................] - ETA: 1:15 - loss: 0.0177 - accuracy: 0.9948 "
     ]
    },
    {
     "name": "stderr",
     "output_type": "stream",
     "text": [
      "2024-07-05 16:41:00.813411: I tensorflow/core/grappler/optimizers/custom_graph_optimizer_registry.cc:113] Plugin optimizer for device_type GPU is enabled.\n"
     ]
    },
    {
     "name": "stdout",
     "output_type": "stream",
     "text": [
      "6563/6563 [==============================] - 65s 10ms/step - loss: 0.0110 - accuracy: 0.9963\n",
      "1875/1875 [==============================] - 18s 10ms/step - loss: 0.0421 - accuracy: 0.9860\n",
      "Epoch 1/4\n",
      "  1/210 [..............................] - ETA: 1:13 - loss: 1.7925 - accuracy: 0.1660"
     ]
    },
    {
     "name": "stderr",
     "output_type": "stream",
     "text": [
      "2024-07-05 16:42:25.458708: I tensorflow/core/grappler/optimizers/custom_graph_optimizer_registry.cc:113] Plugin optimizer for device_type GPU is enabled.\n"
     ]
    },
    {
     "name": "stdout",
     "output_type": "stream",
     "text": [
      "210/210 [==============================] - 3s 13ms/step - loss: 0.2339 - accuracy: 0.9503\n",
      "Epoch 2/4\n",
      "210/210 [==============================] - 3s 12ms/step - loss: 0.0420 - accuracy: 0.9845\n",
      "Epoch 3/4\n",
      "210/210 [==============================] - 3s 12ms/step - loss: 0.0371 - accuracy: 0.9862\n",
      "Epoch 4/4\n",
      "210/210 [==============================] - 3s 13ms/step - loss: 0.0332 - accuracy: 0.9876\n",
      "  11/6563 [..............................] - ETA: 1:09 - loss: 0.0321 - accuracy: 0.9830"
     ]
    },
    {
     "name": "stderr",
     "output_type": "stream",
     "text": [
      "2024-07-05 16:42:37.484291: I tensorflow/core/grappler/optimizers/custom_graph_optimizer_registry.cc:113] Plugin optimizer for device_type GPU is enabled.\n"
     ]
    },
    {
     "name": "stdout",
     "output_type": "stream",
     "text": [
      "6563/6563 [==============================] - 65s 10ms/step - loss: 0.0280 - accuracy: 0.9897\n",
      "1875/1875 [==============================] - 18s 10ms/step - loss: 0.0405 - accuracy: 0.9847\n",
      "MODEL:  24\n"
     ]
    },
    {
     "name": "stderr",
     "output_type": "stream",
     "text": [
      "2024-07-05 16:44:02.600214: I tensorflow/core/grappler/optimizers/custom_graph_optimizer_registry.cc:113] Plugin optimizer for device_type GPU is enabled.\n"
     ]
    },
    {
     "name": "stdout",
     "output_type": "stream",
     "text": [
      "21000/21000 [==============================] - 223s 11ms/step - loss: 0.0702 - accuracy: 0.9757\n",
      "   6/6563 [..............................] - ETA: 1:16 - loss: 0.0477 - accuracy: 0.9844 "
     ]
    },
    {
     "name": "stderr",
     "output_type": "stream",
     "text": [
      "2024-07-05 16:47:46.781629: I tensorflow/core/grappler/optimizers/custom_graph_optimizer_registry.cc:113] Plugin optimizer for device_type GPU is enabled.\n"
     ]
    },
    {
     "name": "stdout",
     "output_type": "stream",
     "text": [
      "6563/6563 [==============================] - 66s 10ms/step - loss: 0.0397 - accuracy: 0.9867\n",
      "1875/1875 [==============================] - 18s 10ms/step - loss: 0.0532 - accuracy: 0.9819\n",
      "   1/2100 [..............................] - ETA: 13:12 - loss: 1.7911 - accuracy: 0.1800"
     ]
    },
    {
     "name": "stderr",
     "output_type": "stream",
     "text": [
      "2024-07-05 16:49:12.534893: I tensorflow/core/grappler/optimizers/custom_graph_optimizer_registry.cc:113] Plugin optimizer for device_type GPU is enabled.\n"
     ]
    },
    {
     "name": "stdout",
     "output_type": "stream",
     "text": [
      "2100/2100 [==============================] - 23s 11ms/step - loss: 0.0800 - accuracy: 0.9736\n",
      "   6/6563 [..............................] - ETA: 1:16 - loss: 0.0477 - accuracy: 0.9740 "
     ]
    },
    {
     "name": "stderr",
     "output_type": "stream",
     "text": [
      "2024-07-05 16:49:36.256443: I tensorflow/core/grappler/optimizers/custom_graph_optimizer_registry.cc:113] Plugin optimizer for device_type GPU is enabled.\n"
     ]
    },
    {
     "name": "stdout",
     "output_type": "stream",
     "text": [
      "6563/6563 [==============================] - 64s 10ms/step - loss: 0.0366 - accuracy: 0.9871\n",
      "1875/1875 [==============================] - 19s 10ms/step - loss: 0.0472 - accuracy: 0.9831\n"
     ]
    },
    {
     "name": "stderr",
     "output_type": "stream",
     "text": [
      "2024-07-05 16:51:00.722971: I tensorflow/core/grappler/optimizers/custom_graph_optimizer_registry.cc:113] Plugin optimizer for device_type GPU is enabled.\n"
     ]
    },
    {
     "name": "stdout",
     "output_type": "stream",
     "text": [
      "210/210 [==============================] - 3s 12ms/step - loss: 0.2115 - accuracy: 0.9540\n",
      "   6/6563 [..............................] - ETA: 1:32 - loss: 0.0346 - accuracy: 0.9896 "
     ]
    },
    {
     "name": "stderr",
     "output_type": "stream",
     "text": [
      "2024-07-05 16:51:05.151269: I tensorflow/core/grappler/optimizers/custom_graph_optimizer_registry.cc:113] Plugin optimizer for device_type GPU is enabled.\n"
     ]
    },
    {
     "name": "stdout",
     "output_type": "stream",
     "text": [
      "6563/6563 [==============================] - 65s 10ms/step - loss: 0.0430 - accuracy: 0.9846\n",
      "1875/1875 [==============================] - 19s 10ms/step - loss: 0.0497 - accuracy: 0.9819\n",
      "Epoch 1/2\n"
     ]
    },
    {
     "name": "stderr",
     "output_type": "stream",
     "text": [
      "2024-07-05 16:52:33.085414: I tensorflow/core/grappler/optimizers/custom_graph_optimizer_registry.cc:113] Plugin optimizer for device_type GPU is enabled.\n"
     ]
    },
    {
     "name": "stdout",
     "output_type": "stream",
     "text": [
      "21000/21000 [==============================] - 231s 11ms/step - loss: 0.0705 - accuracy: 0.9753\n",
      "Epoch 2/2\n",
      "21000/21000 [==============================] - 223s 11ms/step - loss: 0.0373 - accuracy: 0.9872\n",
      "   5/6563 [..............................] - ETA: 1:26 - loss: 0.0346 - accuracy: 0.9875 "
     ]
    },
    {
     "name": "stderr",
     "output_type": "stream",
     "text": [
      "2024-07-05 17:00:06.141085: I tensorflow/core/grappler/optimizers/custom_graph_optimizer_registry.cc:113] Plugin optimizer for device_type GPU is enabled.\n"
     ]
    },
    {
     "name": "stdout",
     "output_type": "stream",
     "text": [
      "6563/6563 [==============================] - 68s 10ms/step - loss: 0.0249 - accuracy: 0.9909\n",
      "1875/1875 [==============================] - 19s 10ms/step - loss: 0.0471 - accuracy: 0.9833\n",
      "Epoch 1/2\n"
     ]
    },
    {
     "name": "stderr",
     "output_type": "stream",
     "text": [
      "2024-07-05 17:01:35.099998: I tensorflow/core/grappler/optimizers/custom_graph_optimizer_registry.cc:113] Plugin optimizer for device_type GPU is enabled.\n"
     ]
    },
    {
     "name": "stdout",
     "output_type": "stream",
     "text": [
      "2100/2100 [==============================] - 23s 11ms/step - loss: 0.0796 - accuracy: 0.9743\n",
      "Epoch 2/2\n",
      "2100/2100 [==============================] - 23s 11ms/step - loss: 0.0378 - accuracy: 0.9861\n",
      "   5/6563 [..............................] - ETA: 1:37 - loss: 0.0266 - accuracy: 0.9875 "
     ]
    },
    {
     "name": "stderr",
     "output_type": "stream",
     "text": [
      "2024-07-05 17:02:21.987482: I tensorflow/core/grappler/optimizers/custom_graph_optimizer_registry.cc:113] Plugin optimizer for device_type GPU is enabled.\n"
     ]
    },
    {
     "name": "stdout",
     "output_type": "stream",
     "text": [
      "6563/6563 [==============================] - 66s 10ms/step - loss: 0.0232 - accuracy: 0.9917\n",
      "1875/1875 [==============================] - 19s 10ms/step - loss: 0.0402 - accuracy: 0.9852\n",
      "Epoch 1/2\n",
      "  1/210 [..............................] - ETA: 1:08 - loss: 1.7944 - accuracy: 0.1490"
     ]
    },
    {
     "name": "stderr",
     "output_type": "stream",
     "text": [
      "2024-07-05 17:03:48.897427: I tensorflow/core/grappler/optimizers/custom_graph_optimizer_registry.cc:113] Plugin optimizer for device_type GPU is enabled.\n"
     ]
    },
    {
     "name": "stdout",
     "output_type": "stream",
     "text": [
      "210/210 [==============================] - 3s 12ms/step - loss: 0.2132 - accuracy: 0.9535\n",
      "Epoch 2/2\n",
      "210/210 [==============================] - 2s 12ms/step - loss: 0.0412 - accuracy: 0.9848\n",
      "   6/6563 [..............................] - ETA: 1:18 - loss: 0.0303 - accuracy: 0.9844 "
     ]
    },
    {
     "name": "stderr",
     "output_type": "stream",
     "text": [
      "2024-07-05 17:03:55.252108: I tensorflow/core/grappler/optimizers/custom_graph_optimizer_registry.cc:113] Plugin optimizer for device_type GPU is enabled.\n"
     ]
    },
    {
     "name": "stdout",
     "output_type": "stream",
     "text": [
      "6563/6563 [==============================] - 64s 10ms/step - loss: 0.0326 - accuracy: 0.9881\n",
      "1875/1875 [==============================] - 18s 10ms/step - loss: 0.0413 - accuracy: 0.9848\n",
      "Epoch 1/3\n",
      "    1/21000 [..............................] - ETA: 2:03:01 - loss: 1.7912 - accuracy: 0.3000"
     ]
    },
    {
     "name": "stderr",
     "output_type": "stream",
     "text": [
      "2024-07-05 17:05:19.774035: I tensorflow/core/grappler/optimizers/custom_graph_optimizer_registry.cc:113] Plugin optimizer for device_type GPU is enabled.\n"
     ]
    },
    {
     "name": "stdout",
     "output_type": "stream",
     "text": [
      "21000/21000 [==============================] - 214s 10ms/step - loss: 0.0693 - accuracy: 0.9758\n",
      "Epoch 2/3\n",
      "21000/21000 [==============================] - 220s 10ms/step - loss: 0.0368 - accuracy: 0.9875\n",
      "Epoch 3/3\n",
      "21000/21000 [==============================] - 221s 11ms/step - loss: 0.0227 - accuracy: 0.9925\n",
      "   5/6563 [..............................] - ETA: 1:24 - loss: 0.0054 - accuracy: 1.0000 "
     ]
    },
    {
     "name": "stderr",
     "output_type": "stream",
     "text": [
      "2024-07-05 17:16:15.590542: I tensorflow/core/grappler/optimizers/custom_graph_optimizer_registry.cc:113] Plugin optimizer for device_type GPU is enabled.\n"
     ]
    },
    {
     "name": "stdout",
     "output_type": "stream",
     "text": [
      "6563/6563 [==============================] - 65s 10ms/step - loss: 0.0123 - accuracy: 0.9961\n",
      "1875/1875 [==============================] - 19s 10ms/step - loss: 0.0483 - accuracy: 0.9866\n",
      "Epoch 1/3\n",
      "   1/2100 [..............................] - ETA: 11:10 - loss: 1.7950 - accuracy: 0.1500"
     ]
    },
    {
     "name": "stderr",
     "output_type": "stream",
     "text": [
      "2024-07-05 17:17:40.950732: I tensorflow/core/grappler/optimizers/custom_graph_optimizer_registry.cc:113] Plugin optimizer for device_type GPU is enabled.\n"
     ]
    },
    {
     "name": "stdout",
     "output_type": "stream",
     "text": [
      "2100/2100 [==============================] - 23s 11ms/step - loss: 0.0800 - accuracy: 0.9741\n",
      "Epoch 2/3\n",
      "2100/2100 [==============================] - 23s 11ms/step - loss: 0.0382 - accuracy: 0.9859\n",
      "Epoch 3/3\n",
      "2100/2100 [==============================] - 23s 11ms/step - loss: 0.0256 - accuracy: 0.9907\n",
      "   6/6563 [..............................] - ETA: 1:14 - loss: 0.0180 - accuracy: 0.9896 "
     ]
    },
    {
     "name": "stderr",
     "output_type": "stream",
     "text": [
      "2024-07-05 17:18:50.139669: I tensorflow/core/grappler/optimizers/custom_graph_optimizer_registry.cc:113] Plugin optimizer for device_type GPU is enabled.\n"
     ]
    },
    {
     "name": "stdout",
     "output_type": "stream",
     "text": [
      "6563/6563 [==============================] - 65s 10ms/step - loss: 0.0133 - accuracy: 0.9954\n",
      "1875/1875 [==============================] - 19s 10ms/step - loss: 0.0384 - accuracy: 0.9866\n",
      "Epoch 1/3\n",
      "  1/210 [..............................] - ETA: 1:20 - loss: 1.7937 - accuracy: 0.1390"
     ]
    },
    {
     "name": "stderr",
     "output_type": "stream",
     "text": [
      "2024-07-05 17:20:16.060789: I tensorflow/core/grappler/optimizers/custom_graph_optimizer_registry.cc:113] Plugin optimizer for device_type GPU is enabled.\n"
     ]
    },
    {
     "name": "stdout",
     "output_type": "stream",
     "text": [
      "210/210 [==============================] - 3s 13ms/step - loss: 0.2117 - accuracy: 0.9543\n",
      "Epoch 2/3\n",
      "210/210 [==============================] - 3s 13ms/step - loss: 0.0416 - accuracy: 0.9847\n",
      "Epoch 3/3\n",
      "210/210 [==============================] - 3s 12ms/step - loss: 0.0363 - accuracy: 0.9864\n",
      "  11/6563 [..............................] - ETA: 1:13 - loss: 0.0294 - accuracy: 0.9858"
     ]
    },
    {
     "name": "stderr",
     "output_type": "stream",
     "text": [
      "2024-07-05 17:20:25.164949: I tensorflow/core/grappler/optimizers/custom_graph_optimizer_registry.cc:113] Plugin optimizer for device_type GPU is enabled.\n"
     ]
    },
    {
     "name": "stdout",
     "output_type": "stream",
     "text": [
      "6563/6563 [==============================] - 65s 10ms/step - loss: 0.0300 - accuracy: 0.9888\n",
      "1875/1875 [==============================] - 18s 10ms/step - loss: 0.0408 - accuracy: 0.9844\n",
      "Epoch 1/4\n",
      "    1/21000 [..............................] - ETA: 1:49:25 - loss: 1.7857 - accuracy: 0.3000"
     ]
    },
    {
     "name": "stderr",
     "output_type": "stream",
     "text": [
      "2024-07-05 17:21:49.670880: I tensorflow/core/grappler/optimizers/custom_graph_optimizer_registry.cc:113] Plugin optimizer for device_type GPU is enabled.\n"
     ]
    },
    {
     "name": "stdout",
     "output_type": "stream",
     "text": [
      "21000/21000 [==============================] - 220s 10ms/step - loss: 0.0696 - accuracy: 0.9757\n",
      "Epoch 2/4\n",
      "21000/21000 [==============================] - 225s 11ms/step - loss: 0.0377 - accuracy: 0.9874\n",
      "Epoch 3/4\n",
      "21000/21000 [==============================] - 225s 11ms/step - loss: 0.0233 - accuracy: 0.9923\n",
      "Epoch 4/4\n",
      "21000/21000 [==============================] - 226s 11ms/step - loss: 0.0150 - accuracy: 0.9953\n",
      "   6/6563 [..............................] - ETA: 1:21 - loss: 0.0034 - accuracy: 1.0000 "
     ]
    },
    {
     "name": "stderr",
     "output_type": "stream",
     "text": [
      "2024-07-05 17:36:46.916625: I tensorflow/core/grappler/optimizers/custom_graph_optimizer_registry.cc:113] Plugin optimizer for device_type GPU is enabled.\n"
     ]
    },
    {
     "name": "stdout",
     "output_type": "stream",
     "text": [
      "6563/6563 [==============================] - 66s 10ms/step - loss: 0.0076 - accuracy: 0.9977\n",
      "1875/1875 [==============================] - 19s 10ms/step - loss: 0.0536 - accuracy: 0.9865\n",
      "Epoch 1/4\n",
      "   1/2100 [..............................] - ETA: 12:12 - loss: 1.7979 - accuracy: 0.0800"
     ]
    },
    {
     "name": "stderr",
     "output_type": "stream",
     "text": [
      "2024-07-05 17:38:12.983075: I tensorflow/core/grappler/optimizers/custom_graph_optimizer_registry.cc:113] Plugin optimizer for device_type GPU is enabled.\n"
     ]
    },
    {
     "name": "stdout",
     "output_type": "stream",
     "text": [
      "2100/2100 [==============================] - 23s 11ms/step - loss: 0.0797 - accuracy: 0.9747\n",
      "Epoch 2/4\n",
      "2100/2100 [==============================] - 22s 11ms/step - loss: 0.0380 - accuracy: 0.9860\n",
      "Epoch 3/4\n",
      "2100/2100 [==============================] - 22s 11ms/step - loss: 0.0250 - accuracy: 0.9908\n",
      "Epoch 4/4\n",
      "2100/2100 [==============================] - 22s 11ms/step - loss: 0.0158 - accuracy: 0.9943\n",
      "   5/6563 [..............................] - ETA: 1:22 - loss: 0.0056 - accuracy: 1.0000 "
     ]
    },
    {
     "name": "stderr",
     "output_type": "stream",
     "text": [
      "2024-07-05 17:39:43.513970: I tensorflow/core/grappler/optimizers/custom_graph_optimizer_registry.cc:113] Plugin optimizer for device_type GPU is enabled.\n"
     ]
    },
    {
     "name": "stdout",
     "output_type": "stream",
     "text": [
      "6563/6563 [==============================] - 64s 10ms/step - loss: 0.0084 - accuracy: 0.9974\n",
      "1875/1875 [==============================] - 19s 10ms/step - loss: 0.0414 - accuracy: 0.9863\n",
      "Epoch 1/4\n",
      "  1/210 [..............................] - ETA: 1:10 - loss: 1.7924 - accuracy: 0.1800"
     ]
    },
    {
     "name": "stderr",
     "output_type": "stream",
     "text": [
      "2024-07-05 17:41:08.300227: I tensorflow/core/grappler/optimizers/custom_graph_optimizer_registry.cc:113] Plugin optimizer for device_type GPU is enabled.\n"
     ]
    },
    {
     "name": "stdout",
     "output_type": "stream",
     "text": [
      "210/210 [==============================] - 3s 12ms/step - loss: 0.2130 - accuracy: 0.9498\n",
      "Epoch 2/4\n",
      "210/210 [==============================] - 3s 12ms/step - loss: 0.0408 - accuracy: 0.9851\n",
      "Epoch 3/4\n",
      "210/210 [==============================] - 3s 13ms/step - loss: 0.0363 - accuracy: 0.9863\n",
      "Epoch 4/4\n",
      "210/210 [==============================] - 3s 12ms/step - loss: 0.0325 - accuracy: 0.9878\n",
      "   6/6563 [..............................] - ETA: 1:21 - loss: 0.0265 - accuracy: 0.9896 "
     ]
    },
    {
     "name": "stderr",
     "output_type": "stream",
     "text": [
      "2024-07-05 17:41:19.936642: I tensorflow/core/grappler/optimizers/custom_graph_optimizer_registry.cc:113] Plugin optimizer for device_type GPU is enabled.\n"
     ]
    },
    {
     "name": "stdout",
     "output_type": "stream",
     "text": [
      "6563/6563 [==============================] - 65s 10ms/step - loss: 0.0255 - accuracy: 0.9907\n",
      "1875/1875 [==============================] - 19s 10ms/step - loss: 0.0396 - accuracy: 0.9855\n",
      "MODEL:  36\n"
     ]
    },
    {
     "name": "stderr",
     "output_type": "stream",
     "text": [
      "2024-07-05 17:42:44.901863: I tensorflow/core/grappler/optimizers/custom_graph_optimizer_registry.cc:113] Plugin optimizer for device_type GPU is enabled.\n"
     ]
    },
    {
     "name": "stdout",
     "output_type": "stream",
     "text": [
      "21000/21000 [==============================] - 224s 11ms/step - loss: 0.0720 - accuracy: 0.9760\n",
      "   6/6563 [..............................] - ETA: 1:13 - loss: 0.0326 - accuracy: 0.9844 "
     ]
    },
    {
     "name": "stderr",
     "output_type": "stream",
     "text": [
      "2024-07-05 17:46:30.528495: I tensorflow/core/grappler/optimizers/custom_graph_optimizer_registry.cc:113] Plugin optimizer for device_type GPU is enabled.\n"
     ]
    },
    {
     "name": "stdout",
     "output_type": "stream",
     "text": [
      "6563/6563 [==============================] - 66s 10ms/step - loss: 0.0367 - accuracy: 0.9866\n",
      "1875/1875 [==============================] - 19s 10ms/step - loss: 0.0543 - accuracy: 0.9810\n"
     ]
    },
    {
     "name": "stderr",
     "output_type": "stream",
     "text": [
      "2024-07-05 17:47:57.089485: I tensorflow/core/grappler/optimizers/custom_graph_optimizer_registry.cc:113] Plugin optimizer for device_type GPU is enabled.\n"
     ]
    },
    {
     "name": "stdout",
     "output_type": "stream",
     "text": [
      "2100/2100 [==============================] - 23s 11ms/step - loss: 0.0721 - accuracy: 0.9759\n",
      "   6/6563 [..............................] - ETA: 1:17 - loss: 0.0369 - accuracy: 0.9896 "
     ]
    },
    {
     "name": "stderr",
     "output_type": "stream",
     "text": [
      "2024-07-05 17:48:21.423396: I tensorflow/core/grappler/optimizers/custom_graph_optimizer_registry.cc:113] Plugin optimizer for device_type GPU is enabled.\n"
     ]
    },
    {
     "name": "stdout",
     "output_type": "stream",
     "text": [
      "6563/6563 [==============================] - 66s 10ms/step - loss: 0.0381 - accuracy: 0.9864\n",
      "1875/1875 [==============================] - 19s 10ms/step - loss: 0.0498 - accuracy: 0.9817\n"
     ]
    },
    {
     "name": "stderr",
     "output_type": "stream",
     "text": [
      "2024-07-05 17:49:47.477890: I tensorflow/core/grappler/optimizers/custom_graph_optimizer_registry.cc:113] Plugin optimizer for device_type GPU is enabled.\n"
     ]
    },
    {
     "name": "stdout",
     "output_type": "stream",
     "text": [
      "210/210 [==============================] - 4s 15ms/step - loss: 0.1530 - accuracy: 0.9642\n",
      "   6/6563 [..............................] - ETA: 1:18 - loss: 0.0533 - accuracy: 0.9792 "
     ]
    },
    {
     "name": "stderr",
     "output_type": "stream",
     "text": [
      "2024-07-05 17:49:52.031166: I tensorflow/core/grappler/optimizers/custom_graph_optimizer_registry.cc:113] Plugin optimizer for device_type GPU is enabled.\n"
     ]
    },
    {
     "name": "stdout",
     "output_type": "stream",
     "text": [
      "6563/6563 [==============================] - 67s 10ms/step - loss: 0.0394 - accuracy: 0.9854\n",
      "1875/1875 [==============================] - 19s 10ms/step - loss: 0.0467 - accuracy: 0.9825\n",
      "Epoch 1/2\n",
      "    1/21000 [..............................] - ETA: 1:49:37 - loss: 1.7908 - accuracy: 0.1000"
     ]
    },
    {
     "name": "stderr",
     "output_type": "stream",
     "text": [
      "2024-07-05 17:51:19.554023: I tensorflow/core/grappler/optimizers/custom_graph_optimizer_registry.cc:113] Plugin optimizer for device_type GPU is enabled.\n"
     ]
    },
    {
     "name": "stdout",
     "output_type": "stream",
     "text": [
      "21000/21000 [==============================] - 226s 11ms/step - loss: 0.0724 - accuracy: 0.9753\n",
      "Epoch 2/2\n",
      "21000/21000 [==============================] - 229s 11ms/step - loss: 0.0384 - accuracy: 0.9876\n",
      "   6/6563 [..............................] - ETA: 1:12 - loss: 0.0127 - accuracy: 0.9948 "
     ]
    },
    {
     "name": "stderr",
     "output_type": "stream",
     "text": [
      "2024-07-05 17:58:55.983445: I tensorflow/core/grappler/optimizers/custom_graph_optimizer_registry.cc:113] Plugin optimizer for device_type GPU is enabled.\n"
     ]
    },
    {
     "name": "stdout",
     "output_type": "stream",
     "text": [
      "6563/6563 [==============================] - 67s 10ms/step - loss: 0.0211 - accuracy: 0.9927\n",
      "1875/1875 [==============================] - 19s 10ms/step - loss: 0.0529 - accuracy: 0.9846\n",
      "Epoch 1/2\n",
      "   1/2100 [..............................] - ETA: 12:09 - loss: 1.7878 - accuracy: 0.1600"
     ]
    },
    {
     "name": "stderr",
     "output_type": "stream",
     "text": [
      "2024-07-05 18:00:23.616286: I tensorflow/core/grappler/optimizers/custom_graph_optimizer_registry.cc:113] Plugin optimizer for device_type GPU is enabled.\n"
     ]
    },
    {
     "name": "stdout",
     "output_type": "stream",
     "text": [
      "2100/2100 [==============================] - 23s 11ms/step - loss: 0.0737 - accuracy: 0.9749\n",
      "Epoch 2/2\n",
      "2100/2100 [==============================] - 23s 11ms/step - loss: 0.0346 - accuracy: 0.9876\n",
      "   6/6563 [..............................] - ETA: 1:15 - loss: 0.0149 - accuracy: 0.9948 "
     ]
    },
    {
     "name": "stderr",
     "output_type": "stream",
     "text": [
      "2024-07-05 18:01:10.797756: I tensorflow/core/grappler/optimizers/custom_graph_optimizer_registry.cc:113] Plugin optimizer for device_type GPU is enabled.\n"
     ]
    },
    {
     "name": "stdout",
     "output_type": "stream",
     "text": [
      "6563/6563 [==============================] - 67s 10ms/step - loss: 0.0226 - accuracy: 0.9919\n",
      "1875/1875 [==============================] - 19s 10ms/step - loss: 0.0438 - accuracy: 0.9844\n",
      "Epoch 1/2\n",
      "  1/210 [..............................] - ETA: 1:18 - loss: 1.7906 - accuracy: 0.1960"
     ]
    },
    {
     "name": "stderr",
     "output_type": "stream",
     "text": [
      "2024-07-05 18:02:38.401029: I tensorflow/core/grappler/optimizers/custom_graph_optimizer_registry.cc:113] Plugin optimizer for device_type GPU is enabled.\n"
     ]
    },
    {
     "name": "stdout",
     "output_type": "stream",
     "text": [
      "210/210 [==============================] - 3s 15ms/step - loss: 0.1539 - accuracy: 0.9620\n",
      "Epoch 2/2\n",
      "210/210 [==============================] - 3s 14ms/step - loss: 0.0379 - accuracy: 0.9858\n",
      "   6/6563 [..............................] - ETA: 1:21 - loss: 0.0318 - accuracy: 0.9896 "
     ]
    },
    {
     "name": "stderr",
     "output_type": "stream",
     "text": [
      "2024-07-05 18:02:45.689948: I tensorflow/core/grappler/optimizers/custom_graph_optimizer_registry.cc:113] Plugin optimizer for device_type GPU is enabled.\n"
     ]
    },
    {
     "name": "stdout",
     "output_type": "stream",
     "text": [
      "6563/6563 [==============================] - 65s 10ms/step - loss: 0.0288 - accuracy: 0.9896\n",
      "1875/1875 [==============================] - 19s 10ms/step - loss: 0.0409 - accuracy: 0.9850\n",
      "Epoch 1/3\n",
      "    1/21000 [..............................] - ETA: 1:49:21 - loss: 1.7945 - accuracy: 0.2000"
     ]
    },
    {
     "name": "stderr",
     "output_type": "stream",
     "text": [
      "2024-07-05 18:04:11.346628: I tensorflow/core/grappler/optimizers/custom_graph_optimizer_registry.cc:113] Plugin optimizer for device_type GPU is enabled.\n"
     ]
    },
    {
     "name": "stdout",
     "output_type": "stream",
     "text": [
      "21000/21000 [==============================] - 229s 11ms/step - loss: 0.0725 - accuracy: 0.9751\n",
      "Epoch 2/3\n",
      "21000/21000 [==============================] - 230s 11ms/step - loss: 0.0378 - accuracy: 0.9877\n",
      "Epoch 3/3\n",
      "21000/21000 [==============================] - 231s 11ms/step - loss: 0.0236 - accuracy: 0.9930\n",
      "   4/6563 [..............................] - ETA: 1:54 - loss: 0.0101 - accuracy: 1.0000 "
     ]
    },
    {
     "name": "stderr",
     "output_type": "stream",
     "text": [
      "2024-07-05 18:15:42.794619: I tensorflow/core/grappler/optimizers/custom_graph_optimizer_registry.cc:113] Plugin optimizer for device_type GPU is enabled.\n"
     ]
    },
    {
     "name": "stdout",
     "output_type": "stream",
     "text": [
      "6563/6563 [==============================] - 67s 10ms/step - loss: 0.0103 - accuracy: 0.9969\n",
      "1875/1875 [==============================] - 19s 10ms/step - loss: 0.0486 - accuracy: 0.9868\n",
      "Epoch 1/3\n",
      "   1/2100 [..............................] - ETA: 11:24 - loss: 1.7897 - accuracy: 0.1500"
     ]
    },
    {
     "name": "stderr",
     "output_type": "stream",
     "text": [
      "2024-07-05 18:17:10.246081: I tensorflow/core/grappler/optimizers/custom_graph_optimizer_registry.cc:113] Plugin optimizer for device_type GPU is enabled.\n"
     ]
    },
    {
     "name": "stdout",
     "output_type": "stream",
     "text": [
      "2100/2100 [==============================] - 23s 11ms/step - loss: 0.0734 - accuracy: 0.9753\n",
      "Epoch 2/3\n",
      "2100/2100 [==============================] - 23s 11ms/step - loss: 0.0347 - accuracy: 0.9874\n",
      "Epoch 3/3\n",
      "2100/2100 [==============================] - 23s 11ms/step - loss: 0.0206 - accuracy: 0.9925\n",
      "   6/6563 [..............................] - ETA: 1:17 - loss: 0.0041 - accuracy: 1.0000 "
     ]
    },
    {
     "name": "stderr",
     "output_type": "stream",
     "text": [
      "2024-07-05 18:18:20.338266: I tensorflow/core/grappler/optimizers/custom_graph_optimizer_registry.cc:113] Plugin optimizer for device_type GPU is enabled.\n"
     ]
    },
    {
     "name": "stdout",
     "output_type": "stream",
     "text": [
      "6563/6563 [==============================] - 66s 10ms/step - loss: 0.0108 - accuracy: 0.9965\n",
      "1875/1875 [==============================] - 19s 10ms/step - loss: 0.0434 - accuracy: 0.9861\n",
      "Epoch 1/3\n",
      "  1/210 [..............................] - ETA: 1:17 - loss: 1.7906 - accuracy: 0.1920"
     ]
    },
    {
     "name": "stderr",
     "output_type": "stream",
     "text": [
      "2024-07-05 18:19:46.702710: I tensorflow/core/grappler/optimizers/custom_graph_optimizer_registry.cc:113] Plugin optimizer for device_type GPU is enabled.\n"
     ]
    },
    {
     "name": "stdout",
     "output_type": "stream",
     "text": [
      "210/210 [==============================] - 3s 15ms/step - loss: 0.1545 - accuracy: 0.9578\n",
      "Epoch 2/3\n",
      "210/210 [==============================] - 3s 14ms/step - loss: 0.0385 - accuracy: 0.9857\n",
      "Epoch 3/3\n",
      "210/210 [==============================] - 3s 14ms/step - loss: 0.0311 - accuracy: 0.9884\n",
      "   6/6563 [..............................] - ETA: 1:21 - loss: 0.0209 - accuracy: 0.9948 "
     ]
    },
    {
     "name": "stderr",
     "output_type": "stream",
     "text": [
      "2024-07-05 18:19:57.037901: I tensorflow/core/grappler/optimizers/custom_graph_optimizer_registry.cc:113] Plugin optimizer for device_type GPU is enabled.\n"
     ]
    },
    {
     "name": "stdout",
     "output_type": "stream",
     "text": [
      "6563/6563 [==============================] - 66s 10ms/step - loss: 0.0218 - accuracy: 0.9924\n",
      "1875/1875 [==============================] - 19s 10ms/step - loss: 0.0397 - accuracy: 0.9854\n",
      "Epoch 1/4\n",
      "    1/21000 [..............................] - ETA: 1:59:13 - loss: 1.7849 - accuracy: 0.2000"
     ]
    },
    {
     "name": "stderr",
     "output_type": "stream",
     "text": [
      "2024-07-05 18:21:24.012597: I tensorflow/core/grappler/optimizers/custom_graph_optimizer_registry.cc:113] Plugin optimizer for device_type GPU is enabled.\n"
     ]
    },
    {
     "name": "stdout",
     "output_type": "stream",
     "text": [
      "21000/21000 [==============================] - 226s 11ms/step - loss: 0.0722 - accuracy: 0.9754\n",
      "Epoch 2/4\n",
      "21000/21000 [==============================] - 230s 11ms/step - loss: 0.0374 - accuracy: 0.9876\n",
      "Epoch 3/4\n",
      "21000/21000 [==============================] - 234s 11ms/step - loss: 0.0230 - accuracy: 0.9928\n",
      "Epoch 4/4\n",
      "21000/21000 [==============================] - 237s 11ms/step - loss: 0.0145 - accuracy: 0.9959\n"
     ]
    },
    {
     "name": "stderr",
     "output_type": "stream",
     "text": [
      "2024-07-05 18:36:52.848349: I tensorflow/core/grappler/optimizers/custom_graph_optimizer_registry.cc:113] Plugin optimizer for device_type GPU is enabled.\n"
     ]
    },
    {
     "name": "stdout",
     "output_type": "stream",
     "text": [
      "6563/6563 [==============================] - 69s 10ms/step - loss: 0.0068 - accuracy: 0.9982\n",
      "1875/1875 [==============================] - 19s 10ms/step - loss: 0.0598 - accuracy: 0.9870\n",
      "Epoch 1/4\n",
      "   1/2100 [..............................] - ETA: 11:59 - loss: 1.7914 - accuracy: 0.1800"
     ]
    },
    {
     "name": "stderr",
     "output_type": "stream",
     "text": [
      "2024-07-05 18:38:21.303955: I tensorflow/core/grappler/optimizers/custom_graph_optimizer_registry.cc:113] Plugin optimizer for device_type GPU is enabled.\n"
     ]
    },
    {
     "name": "stdout",
     "output_type": "stream",
     "text": [
      "2100/2100 [==============================] - 23s 11ms/step - loss: 0.0733 - accuracy: 0.9747\n",
      "Epoch 2/4\n",
      "2100/2100 [==============================] - 22s 11ms/step - loss: 0.0346 - accuracy: 0.9874\n",
      "Epoch 3/4\n",
      "2100/2100 [==============================] - 23s 11ms/step - loss: 0.0204 - accuracy: 0.9927\n",
      "Epoch 4/4\n",
      "2100/2100 [==============================] - 22s 11ms/step - loss: 0.0116 - accuracy: 0.9959\n",
      "   4/6563 [..............................] - ETA: 2:00 - loss: 0.0112 - accuracy: 0.9922 "
     ]
    },
    {
     "name": "stderr",
     "output_type": "stream",
     "text": [
      "2024-07-05 18:39:52.195676: I tensorflow/core/grappler/optimizers/custom_graph_optimizer_registry.cc:113] Plugin optimizer for device_type GPU is enabled.\n"
     ]
    },
    {
     "name": "stdout",
     "output_type": "stream",
     "text": [
      "6563/6563 [==============================] - 66s 10ms/step - loss: 0.0093 - accuracy: 0.9967\n",
      "1875/1875 [==============================] - 19s 10ms/step - loss: 0.0495 - accuracy: 0.9855\n",
      "Epoch 1/4\n",
      "  1/210 [..............................] - ETA: 1:05 - loss: 1.7916 - accuracy: 0.1860"
     ]
    },
    {
     "name": "stderr",
     "output_type": "stream",
     "text": [
      "2024-07-05 18:41:18.756403: I tensorflow/core/grappler/optimizers/custom_graph_optimizer_registry.cc:113] Plugin optimizer for device_type GPU is enabled.\n"
     ]
    },
    {
     "name": "stdout",
     "output_type": "stream",
     "text": [
      "210/210 [==============================] - 3s 14ms/step - loss: 0.1536 - accuracy: 0.9653\n",
      "Epoch 2/4\n",
      "210/210 [==============================] - 3s 14ms/step - loss: 0.0384 - accuracy: 0.9857\n",
      "Epoch 3/4\n",
      "210/210 [==============================] - 3s 13ms/step - loss: 0.0307 - accuracy: 0.9887\n",
      "Epoch 4/4\n",
      "210/210 [==============================] - 3s 14ms/step - loss: 0.0226 - accuracy: 0.9920\n",
      "  11/6563 [..............................] - ETA: 1:12 - loss: 0.0163 - accuracy: 0.9972"
     ]
    },
    {
     "name": "stderr",
     "output_type": "stream",
     "text": [
      "2024-07-05 18:41:31.214450: I tensorflow/core/grappler/optimizers/custom_graph_optimizer_registry.cc:113] Plugin optimizer for device_type GPU is enabled.\n"
     ]
    },
    {
     "name": "stdout",
     "output_type": "stream",
     "text": [
      "6563/6563 [==============================] - 68s 10ms/step - loss: 0.0173 - accuracy: 0.9937\n",
      "1875/1875 [==============================] - 20s 10ms/step - loss: 0.0404 - accuracy: 0.9857\n"
     ]
    }
   ],
   "source": [
    "nodes = [[100,100,50],[200,200,100],[300,200,100],[500,500,250]]\n",
    "epochs = [1,2,3,4]\n",
    "batch_size = [10,100,1000]\n",
    "\n",
    "results = []\n",
    "i = 0\n",
    "\n",
    "for n in nodes:\n",
    "    print(\"MODEL: \", i)\n",
    "    for e in epochs:\n",
    "        for b in batch_size:\n",
    "            result = {}\n",
    "            \n",
    "            result['model'] = i\n",
    "            result['nodes'] = n\n",
    "            result['epochs'] = e\n",
    "            result['batch_size'] = b\n",
    "            result['train'], result['valid'] = fit_model(n,e,b)\n",
    "            \n",
    "            results.append(result)\n",
    "            i+= 1\n",
    "\n",
    "results_final = pd.DataFrame(results)"
   ]
  },
  {
   "cell_type": "code",
   "execution_count": 71,
   "metadata": {},
   "outputs": [
    {
     "data": {
      "text/html": [
       "<div>\n",
       "<style scoped>\n",
       "    .dataframe tbody tr th:only-of-type {\n",
       "        vertical-align: middle;\n",
       "    }\n",
       "\n",
       "    .dataframe tbody tr th {\n",
       "        vertical-align: top;\n",
       "    }\n",
       "\n",
       "    .dataframe thead th {\n",
       "        text-align: right;\n",
       "    }\n",
       "</style>\n",
       "<table border=\"1\" class=\"dataframe\">\n",
       "  <thead>\n",
       "    <tr style=\"text-align: right;\">\n",
       "      <th></th>\n",
       "      <th>model</th>\n",
       "      <th>nodes</th>\n",
       "      <th>epochs</th>\n",
       "      <th>batch_size</th>\n",
       "      <th>train</th>\n",
       "      <th>valid</th>\n",
       "    </tr>\n",
       "  </thead>\n",
       "  <tbody>\n",
       "    <tr>\n",
       "      <th>45</th>\n",
       "      <td>45</td>\n",
       "      <td>[500, 500, 250]</td>\n",
       "      <td>4</td>\n",
       "      <td>10</td>\n",
       "      <td>99.82</td>\n",
       "      <td>98.7</td>\n",
       "    </tr>\n",
       "  </tbody>\n",
       "</table>\n",
       "</div>"
      ],
      "text/plain": [
       "    model            nodes  epochs  batch_size  train  valid\n",
       "45     45  [500, 500, 250]       4          10  99.82   98.7"
      ]
     },
     "execution_count": 71,
     "metadata": {},
     "output_type": "execute_result"
    }
   ],
   "source": [
    "results_final[results_final.valid == results_final.valid.max()]"
   ]
  },
  {
   "cell_type": "code",
   "execution_count": 72,
   "metadata": {},
   "outputs": [
    {
     "data": {
      "text/html": [
       "<div>\n",
       "<style scoped>\n",
       "    .dataframe tbody tr th:only-of-type {\n",
       "        vertical-align: middle;\n",
       "    }\n",
       "\n",
       "    .dataframe tbody tr th {\n",
       "        vertical-align: top;\n",
       "    }\n",
       "\n",
       "    .dataframe thead th {\n",
       "        text-align: right;\n",
       "    }\n",
       "</style>\n",
       "<table border=\"1\" class=\"dataframe\">\n",
       "  <thead>\n",
       "    <tr style=\"text-align: right;\">\n",
       "      <th></th>\n",
       "      <th>model</th>\n",
       "      <th>nodes</th>\n",
       "      <th>epochs</th>\n",
       "      <th>batch_size</th>\n",
       "      <th>train</th>\n",
       "      <th>valid</th>\n",
       "    </tr>\n",
       "  </thead>\n",
       "  <tbody>\n",
       "    <tr>\n",
       "      <th>1</th>\n",
       "      <td>1</td>\n",
       "      <td>[100, 100, 50]</td>\n",
       "      <td>1</td>\n",
       "      <td>100</td>\n",
       "      <td>98.64</td>\n",
       "      <td>98.33</td>\n",
       "    </tr>\n",
       "    <tr>\n",
       "      <th>3</th>\n",
       "      <td>3</td>\n",
       "      <td>[100, 100, 50]</td>\n",
       "      <td>2</td>\n",
       "      <td>10</td>\n",
       "      <td>99.16</td>\n",
       "      <td>98.55</td>\n",
       "    </tr>\n",
       "    <tr>\n",
       "      <th>4</th>\n",
       "      <td>4</td>\n",
       "      <td>[100, 100, 50]</td>\n",
       "      <td>2</td>\n",
       "      <td>100</td>\n",
       "      <td>98.82</td>\n",
       "      <td>98.37</td>\n",
       "    </tr>\n",
       "    <tr>\n",
       "      <th>5</th>\n",
       "      <td>5</td>\n",
       "      <td>[100, 100, 50]</td>\n",
       "      <td>2</td>\n",
       "      <td>1000</td>\n",
       "      <td>98.64</td>\n",
       "      <td>98.43</td>\n",
       "    </tr>\n",
       "    <tr>\n",
       "      <th>6</th>\n",
       "      <td>6</td>\n",
       "      <td>[100, 100, 50]</td>\n",
       "      <td>3</td>\n",
       "      <td>10</td>\n",
       "      <td>99.40</td>\n",
       "      <td>98.51</td>\n",
       "    </tr>\n",
       "    <tr>\n",
       "      <th>7</th>\n",
       "      <td>7</td>\n",
       "      <td>[100, 100, 50]</td>\n",
       "      <td>3</td>\n",
       "      <td>100</td>\n",
       "      <td>99.07</td>\n",
       "      <td>98.46</td>\n",
       "    </tr>\n",
       "    <tr>\n",
       "      <th>8</th>\n",
       "      <td>8</td>\n",
       "      <td>[100, 100, 50]</td>\n",
       "      <td>3</td>\n",
       "      <td>1000</td>\n",
       "      <td>98.81</td>\n",
       "      <td>98.49</td>\n",
       "    </tr>\n",
       "    <tr>\n",
       "      <th>9</th>\n",
       "      <td>9</td>\n",
       "      <td>[100, 100, 50]</td>\n",
       "      <td>4</td>\n",
       "      <td>10</td>\n",
       "      <td>99.54</td>\n",
       "      <td>98.56</td>\n",
       "    </tr>\n",
       "    <tr>\n",
       "      <th>10</th>\n",
       "      <td>10</td>\n",
       "      <td>[100, 100, 50]</td>\n",
       "      <td>4</td>\n",
       "      <td>100</td>\n",
       "      <td>99.23</td>\n",
       "      <td>98.49</td>\n",
       "    </tr>\n",
       "    <tr>\n",
       "      <th>11</th>\n",
       "      <td>11</td>\n",
       "      <td>[100, 100, 50]</td>\n",
       "      <td>4</td>\n",
       "      <td>1000</td>\n",
       "      <td>98.82</td>\n",
       "      <td>98.41</td>\n",
       "    </tr>\n",
       "    <tr>\n",
       "      <th>12</th>\n",
       "      <td>12</td>\n",
       "      <td>[200, 200, 100]</td>\n",
       "      <td>1</td>\n",
       "      <td>10</td>\n",
       "      <td>98.76</td>\n",
       "      <td>98.32</td>\n",
       "    </tr>\n",
       "    <tr>\n",
       "      <th>16</th>\n",
       "      <td>16</td>\n",
       "      <td>[200, 200, 100]</td>\n",
       "      <td>2</td>\n",
       "      <td>100</td>\n",
       "      <td>99.07</td>\n",
       "      <td>98.48</td>\n",
       "    </tr>\n",
       "    <tr>\n",
       "      <th>17</th>\n",
       "      <td>17</td>\n",
       "      <td>[200, 200, 100]</td>\n",
       "      <td>2</td>\n",
       "      <td>1000</td>\n",
       "      <td>98.74</td>\n",
       "      <td>98.41</td>\n",
       "    </tr>\n",
       "    <tr>\n",
       "      <th>18</th>\n",
       "      <td>18</td>\n",
       "      <td>[200, 200, 100]</td>\n",
       "      <td>3</td>\n",
       "      <td>10</td>\n",
       "      <td>99.53</td>\n",
       "      <td>98.62</td>\n",
       "    </tr>\n",
       "    <tr>\n",
       "      <th>20</th>\n",
       "      <td>20</td>\n",
       "      <td>[200, 200, 100]</td>\n",
       "      <td>3</td>\n",
       "      <td>1000</td>\n",
       "      <td>98.89</td>\n",
       "      <td>98.44</td>\n",
       "    </tr>\n",
       "    <tr>\n",
       "      <th>21</th>\n",
       "      <td>21</td>\n",
       "      <td>[200, 200, 100]</td>\n",
       "      <td>4</td>\n",
       "      <td>10</td>\n",
       "      <td>99.67</td>\n",
       "      <td>98.58</td>\n",
       "    </tr>\n",
       "    <tr>\n",
       "      <th>22</th>\n",
       "      <td>22</td>\n",
       "      <td>[200, 200, 100]</td>\n",
       "      <td>4</td>\n",
       "      <td>100</td>\n",
       "      <td>99.63</td>\n",
       "      <td>98.60</td>\n",
       "    </tr>\n",
       "    <tr>\n",
       "      <th>23</th>\n",
       "      <td>23</td>\n",
       "      <td>[200, 200, 100]</td>\n",
       "      <td>4</td>\n",
       "      <td>1000</td>\n",
       "      <td>98.97</td>\n",
       "      <td>98.47</td>\n",
       "    </tr>\n",
       "    <tr>\n",
       "      <th>25</th>\n",
       "      <td>25</td>\n",
       "      <td>[300, 200, 100]</td>\n",
       "      <td>1</td>\n",
       "      <td>100</td>\n",
       "      <td>98.71</td>\n",
       "      <td>98.31</td>\n",
       "    </tr>\n",
       "    <tr>\n",
       "      <th>27</th>\n",
       "      <td>27</td>\n",
       "      <td>[300, 200, 100]</td>\n",
       "      <td>2</td>\n",
       "      <td>10</td>\n",
       "      <td>99.09</td>\n",
       "      <td>98.33</td>\n",
       "    </tr>\n",
       "    <tr>\n",
       "      <th>28</th>\n",
       "      <td>28</td>\n",
       "      <td>[300, 200, 100]</td>\n",
       "      <td>2</td>\n",
       "      <td>100</td>\n",
       "      <td>99.17</td>\n",
       "      <td>98.52</td>\n",
       "    </tr>\n",
       "    <tr>\n",
       "      <th>29</th>\n",
       "      <td>29</td>\n",
       "      <td>[300, 200, 100]</td>\n",
       "      <td>2</td>\n",
       "      <td>1000</td>\n",
       "      <td>98.81</td>\n",
       "      <td>98.48</td>\n",
       "    </tr>\n",
       "    <tr>\n",
       "      <th>30</th>\n",
       "      <td>30</td>\n",
       "      <td>[300, 200, 100]</td>\n",
       "      <td>3</td>\n",
       "      <td>10</td>\n",
       "      <td>99.61</td>\n",
       "      <td>98.66</td>\n",
       "    </tr>\n",
       "    <tr>\n",
       "      <th>31</th>\n",
       "      <td>31</td>\n",
       "      <td>[300, 200, 100]</td>\n",
       "      <td>3</td>\n",
       "      <td>100</td>\n",
       "      <td>99.54</td>\n",
       "      <td>98.66</td>\n",
       "    </tr>\n",
       "    <tr>\n",
       "      <th>32</th>\n",
       "      <td>32</td>\n",
       "      <td>[300, 200, 100]</td>\n",
       "      <td>3</td>\n",
       "      <td>1000</td>\n",
       "      <td>98.88</td>\n",
       "      <td>98.44</td>\n",
       "    </tr>\n",
       "    <tr>\n",
       "      <th>33</th>\n",
       "      <td>33</td>\n",
       "      <td>[300, 200, 100]</td>\n",
       "      <td>4</td>\n",
       "      <td>10</td>\n",
       "      <td>99.77</td>\n",
       "      <td>98.65</td>\n",
       "    </tr>\n",
       "    <tr>\n",
       "      <th>34</th>\n",
       "      <td>34</td>\n",
       "      <td>[300, 200, 100]</td>\n",
       "      <td>4</td>\n",
       "      <td>100</td>\n",
       "      <td>99.74</td>\n",
       "      <td>98.63</td>\n",
       "    </tr>\n",
       "    <tr>\n",
       "      <th>35</th>\n",
       "      <td>35</td>\n",
       "      <td>[300, 200, 100]</td>\n",
       "      <td>4</td>\n",
       "      <td>1000</td>\n",
       "      <td>99.07</td>\n",
       "      <td>98.55</td>\n",
       "    </tr>\n",
       "    <tr>\n",
       "      <th>39</th>\n",
       "      <td>39</td>\n",
       "      <td>[500, 500, 250]</td>\n",
       "      <td>2</td>\n",
       "      <td>10</td>\n",
       "      <td>99.27</td>\n",
       "      <td>98.46</td>\n",
       "    </tr>\n",
       "    <tr>\n",
       "      <th>40</th>\n",
       "      <td>40</td>\n",
       "      <td>[500, 500, 250]</td>\n",
       "      <td>2</td>\n",
       "      <td>100</td>\n",
       "      <td>99.19</td>\n",
       "      <td>98.44</td>\n",
       "    </tr>\n",
       "    <tr>\n",
       "      <th>41</th>\n",
       "      <td>41</td>\n",
       "      <td>[500, 500, 250]</td>\n",
       "      <td>2</td>\n",
       "      <td>1000</td>\n",
       "      <td>98.96</td>\n",
       "      <td>98.50</td>\n",
       "    </tr>\n",
       "    <tr>\n",
       "      <th>42</th>\n",
       "      <td>42</td>\n",
       "      <td>[500, 500, 250]</td>\n",
       "      <td>3</td>\n",
       "      <td>10</td>\n",
       "      <td>99.69</td>\n",
       "      <td>98.68</td>\n",
       "    </tr>\n",
       "    <tr>\n",
       "      <th>43</th>\n",
       "      <td>43</td>\n",
       "      <td>[500, 500, 250]</td>\n",
       "      <td>3</td>\n",
       "      <td>100</td>\n",
       "      <td>99.65</td>\n",
       "      <td>98.61</td>\n",
       "    </tr>\n",
       "    <tr>\n",
       "      <th>44</th>\n",
       "      <td>44</td>\n",
       "      <td>[500, 500, 250]</td>\n",
       "      <td>3</td>\n",
       "      <td>1000</td>\n",
       "      <td>99.24</td>\n",
       "      <td>98.54</td>\n",
       "    </tr>\n",
       "    <tr>\n",
       "      <th>45</th>\n",
       "      <td>45</td>\n",
       "      <td>[500, 500, 250]</td>\n",
       "      <td>4</td>\n",
       "      <td>10</td>\n",
       "      <td>99.82</td>\n",
       "      <td>98.70</td>\n",
       "    </tr>\n",
       "    <tr>\n",
       "      <th>46</th>\n",
       "      <td>46</td>\n",
       "      <td>[500, 500, 250]</td>\n",
       "      <td>4</td>\n",
       "      <td>100</td>\n",
       "      <td>99.67</td>\n",
       "      <td>98.55</td>\n",
       "    </tr>\n",
       "    <tr>\n",
       "      <th>47</th>\n",
       "      <td>47</td>\n",
       "      <td>[500, 500, 250]</td>\n",
       "      <td>4</td>\n",
       "      <td>1000</td>\n",
       "      <td>99.37</td>\n",
       "      <td>98.57</td>\n",
       "    </tr>\n",
       "  </tbody>\n",
       "</table>\n",
       "</div>"
      ],
      "text/plain": [
       "    model            nodes  epochs  batch_size  train  valid\n",
       "1       1   [100, 100, 50]       1         100  98.64  98.33\n",
       "3       3   [100, 100, 50]       2          10  99.16  98.55\n",
       "4       4   [100, 100, 50]       2         100  98.82  98.37\n",
       "5       5   [100, 100, 50]       2        1000  98.64  98.43\n",
       "6       6   [100, 100, 50]       3          10  99.40  98.51\n",
       "7       7   [100, 100, 50]       3         100  99.07  98.46\n",
       "8       8   [100, 100, 50]       3        1000  98.81  98.49\n",
       "9       9   [100, 100, 50]       4          10  99.54  98.56\n",
       "10     10   [100, 100, 50]       4         100  99.23  98.49\n",
       "11     11   [100, 100, 50]       4        1000  98.82  98.41\n",
       "12     12  [200, 200, 100]       1          10  98.76  98.32\n",
       "16     16  [200, 200, 100]       2         100  99.07  98.48\n",
       "17     17  [200, 200, 100]       2        1000  98.74  98.41\n",
       "18     18  [200, 200, 100]       3          10  99.53  98.62\n",
       "20     20  [200, 200, 100]       3        1000  98.89  98.44\n",
       "21     21  [200, 200, 100]       4          10  99.67  98.58\n",
       "22     22  [200, 200, 100]       4         100  99.63  98.60\n",
       "23     23  [200, 200, 100]       4        1000  98.97  98.47\n",
       "25     25  [300, 200, 100]       1         100  98.71  98.31\n",
       "27     27  [300, 200, 100]       2          10  99.09  98.33\n",
       "28     28  [300, 200, 100]       2         100  99.17  98.52\n",
       "29     29  [300, 200, 100]       2        1000  98.81  98.48\n",
       "30     30  [300, 200, 100]       3          10  99.61  98.66\n",
       "31     31  [300, 200, 100]       3         100  99.54  98.66\n",
       "32     32  [300, 200, 100]       3        1000  98.88  98.44\n",
       "33     33  [300, 200, 100]       4          10  99.77  98.65\n",
       "34     34  [300, 200, 100]       4         100  99.74  98.63\n",
       "35     35  [300, 200, 100]       4        1000  99.07  98.55\n",
       "39     39  [500, 500, 250]       2          10  99.27  98.46\n",
       "40     40  [500, 500, 250]       2         100  99.19  98.44\n",
       "41     41  [500, 500, 250]       2        1000  98.96  98.50\n",
       "42     42  [500, 500, 250]       3          10  99.69  98.68\n",
       "43     43  [500, 500, 250]       3         100  99.65  98.61\n",
       "44     44  [500, 500, 250]       3        1000  99.24  98.54\n",
       "45     45  [500, 500, 250]       4          10  99.82  98.70\n",
       "46     46  [500, 500, 250]       4         100  99.67  98.55\n",
       "47     47  [500, 500, 250]       4        1000  99.37  98.57"
      ]
     },
     "execution_count": 72,
     "metadata": {},
     "output_type": "execute_result"
    }
   ],
   "source": [
    "results_final[results_final.valid>98.3]"
   ]
  },
  {
   "cell_type": "markdown",
   "metadata": {},
   "source": [
    "##  Modelling - Final Model"
   ]
  },
  {
   "cell_type": "code",
   "execution_count": 73,
   "metadata": {},
   "outputs": [
    {
     "name": "stdout",
     "output_type": "stream",
     "text": [
      "Epoch 1/4\n",
      "   1/2100 [..............................] - ETA: 12:23 - loss: 1.7922 - accuracy: 0.1800"
     ]
    },
    {
     "name": "stderr",
     "output_type": "stream",
     "text": [
      "2024-07-05 18:43:00.610924: I tensorflow/core/grappler/optimizers/custom_graph_optimizer_registry.cc:113] Plugin optimizer for device_type GPU is enabled.\n"
     ]
    },
    {
     "name": "stdout",
     "output_type": "stream",
     "text": [
      "2100/2100 [==============================] - 23s 11ms/step - loss: 0.0737 - accuracy: 0.9753\n",
      "Epoch 2/4\n",
      "2100/2100 [==============================] - 23s 11ms/step - loss: 0.0349 - accuracy: 0.9875\n",
      "Epoch 3/4\n",
      "2100/2100 [==============================] - 23s 11ms/step - loss: 0.0204 - accuracy: 0.9926\n",
      "Epoch 4/4\n",
      "2100/2100 [==============================] - 23s 11ms/step - loss: 0.0124 - accuracy: 0.9957\n"
     ]
    },
    {
     "data": {
      "text/plain": [
       "<keras.callbacks.History at 0x3505f6670>"
      ]
     },
     "execution_count": 73,
     "metadata": {},
     "output_type": "execute_result"
    }
   ],
   "source": [
    "from keras.models import Sequential\n",
    "from keras.layers import Dense\n",
    "\n",
    "#Get training data\n",
    "x = train_feat.drop('lang',axis=1)\n",
    "y = encode(train_feat['lang'])\n",
    "\n",
    "#Define model\n",
    "model = Sequential()\n",
    "model.add(Dense(500, input_dim=661, activation='relu'))\n",
    "model.add(Dense(500, activation='relu'))\n",
    "model.add(Dense(250, activation='relu'))\n",
    "model.add(Dense(6, activation='softmax'))\n",
    "model.compile(loss='categorical_crossentropy', optimizer='adam', metrics=['accuracy'])\n",
    "\n",
    "#Train model\n",
    "model.fit(x, y, epochs=4, batch_size=100)"
   ]
  },
  {
   "cell_type": "code",
   "execution_count": 76,
   "metadata": {},
   "outputs": [
    {
     "name": "stdout",
     "output_type": "stream",
     "text": [
      "938/938 [==============================] - 2s 2ms/step\n",
      "Accuracy: 0.9860333333333333\n"
     ]
    },
    {
     "data": {
      "image/png": "[encoded data removed]",
      "text/plain": [
       "<Figure size 1000x1000 with 1 Axes>"
      ]
     },
     "metadata": {},
     "output_type": "display_data"
    }
   ],
   "source": [
    "import matplotlib.pyplot as plt\n",
    "import seaborn as sns\n",
    "from sklearn.metrics import accuracy_score, confusion_matrix\n",
    "import numpy as np\n",
    "\n",
    "# x_test 和 y_test 已经定义，并且 model 是一个已训练好的 Keras 模型\n",
    "x_test = test_feat.drop('lang', axis=1)\n",
    "y_test = test_feat['lang']\n",
    "\n",
    "# Use model.predict to get probabilities\n",
    "predictions_prob = model.predict(x_test)\n",
    "# Find the index of the highest probability for each sample\n",
    "labels = np.argmax(predictions_prob, axis=1)\n",
    "predictions = encoder.inverse_transform(labels)\n",
    "\n",
    "# Ensure y_test is a 1D array\n",
    "if y_test.ndim > 1:\n",
    "    y_test = np.argmax(y_test, axis=1)\n",
    "\n",
    "# Accuracy on test set\n",
    "accuracy = accuracy_score(y_test, predictions)\n",
    "print(f\"Accuracy: {accuracy}\")\n",
    "\n",
    "# Create confusion matrix\n",
    "lang = ['deu', 'eng', 'fra', 'ita', 'por', 'spa']\n",
    "conf_matrix = confusion_matrix(y_test, predictions)\n",
    "conf_matrix_df = pd.DataFrame(conf_matrix, columns=lang, index=lang)\n",
    "\n",
    "# Plot confusion matrix heatmap\n",
    "plt.figure(figsize=(10, 10), facecolor='w', edgecolor='k')\n",
    "sns.set(font_scale=1.5)\n",
    "sns.heatmap(conf_matrix_df, cmap='coolwarm', annot=True, fmt='.5g', cbar=False)\n",
    "plt.xlabel('Predicted', fontsize=22)\n",
    "plt.ylabel('Actual', fontsize=22)\n",
    "\n",
    "plt.savefig('../figures/model_eval.png', format='png', dpi=150)\n",
    "plt.show()"
   ]
  },
  {
   "cell_type": "code",
   "execution_count": null,
   "metadata": {},
   "outputs": [],
   "source": []
  },
  {
   "cell_type": "code",
   "execution_count": null,
   "metadata": {},
   "outputs": [],
   "source": []
  }
 ],
 "metadata": {
  "kernelspec": {
   "display_name": "ml",
   "language": "python",
   "name": "python3"
  },
  "language_info": {
   "codemirror_mode": {
    "name": "ipython",
    "version": 3
   },
   "file_extension": ".py",
   "mimetype": "text/x-python",
   "name": "python",
   "nbconvert_exporter": "python",
   "pygments_lexer": "ipython3",
   "version": "3.9.16"
  }
 },
 "nbformat": 4,
 "nbformat_minor": 2
}
