{
 "cells": [
  {
   "cell_type": "markdown",
   "metadata": {},
   "source": [
    "# Colour Picker"
   ]
  },
  {
   "cell_type": "code",
   "execution_count": 38,
   "metadata": {},
   "outputs": [],
   "source": [
    "import numpy as np\n",
    "import matplotlib.pyplot as plt\n",
    "import matplotlib.image as mpimg\n",
    "plt.style.use('default')\n",
    "\n",
    "import matplotlib\n",
    "matplotlib.use('TkAgg')  # 强制使用 TkAgg\n",
    "\n",
    "import pyperclip\n",
    "import random\n",
    "import glob\n",
    "\n",
    "import os\n",
    "dp = os.environ.get('pub_data')\n",
    "data = dp + 'birds/'"
   ]
  },
  {
   "cell_type": "code",
   "execution_count": 39,
   "metadata": {},
   "outputs": [
    {
     "name": "stdout",
     "output_type": "stream",
     "text": [
      "21\n"
     ]
    }
   ],
   "source": [
    "# Dataset\n",
    "img_path = glob.glob(data + '*.jpg')\n",
    "print(len(img_path))"
   ]
  },
  {
   "cell_type": "code",
   "execution_count": 40,
   "metadata": {},
   "outputs": [],
   "source": [
    "# Example images\n",
    "fig, ax = plt.subplots(2, 4, figsize=(20, 10))\n",
    "\n",
    "count = 0\n",
    "for i in range(2):\n",
    "    for j in range(4):\n",
    "        img = mpimg.imread(img_path[count])\n",
    "\n",
    "        ax[i, j].imshow(img)\n",
    "        ax[i, j].axis('off')\n",
    "        ax[i, j].axis('tight')\n",
    "        ax[i, j].axis('image')\n",
    "\n",
    "        count+=1"
   ]
  },
  {
   "cell_type": "markdown",
   "metadata": {},
   "source": [
    "## Colour picker 1"
   ]
  },
  {
   "cell_type": "code",
   "execution_count": 41,
   "metadata": {},
   "outputs": [],
   "source": [
    "def onclick(event):\n",
    "    global img\n",
    "\n",
    "    # get x, y of click\n",
    "    x = round(event.xdata)\n",
    "    y = round(event.ydata)\n",
    "\n",
    "    # Get RGB values\n",
    "    rgb = img[y][x]\n",
    "\n",
    "    # save to clip board\n",
    "    pyperclip.copy(str(rgb))"
   ]
  },
  {
   "cell_type": "code",
   "execution_count": 42,
   "metadata": {},
   "outputs": [],
   "source": [
    "global img\n",
    "\n",
    "fig = plt.figure(figsize=(5,5))\n",
    "\n",
    "# Load image and add count\n",
    "path = img_path[-1]\n",
    "img = mpimg.imread(path)\n",
    "\n",
    "# Add an interactive widget to figure\n",
    "cid = fig.canvas.mpl_connect('button_press_event', onclick)\n",
    "plt.imshow(img)\n",
    "plt.show()"
   ]
  },
  {
   "cell_type": "markdown",
   "metadata": {},
   "source": [
    "## Colour picker 2 "
   ]
  },
  {
   "cell_type": "code",
   "execution_count": 44,
   "metadata": {},
   "outputs": [],
   "source": [
    "def onclick(event):\n",
    "    global img\n",
    "    global rgb\n",
    "    \n",
    "    # get x,y of click\n",
    "    x = round(event.xdata)\n",
    "    y = round(event.ydata)\n",
    "    \n",
    "    # get RGB values\n",
    "    rgb = img[y][x]\n",
    "    \n",
    "    #Update second plot with colour\n",
    "    change_choice()"
   ]
  },
  {
   "cell_type": "code",
   "execution_count": 45,
   "metadata": {},
   "outputs": [],
   "source": [
    "def onpress(event):\n",
    "    global rgb\n",
    "    global colours\n",
    "    \n",
    "    #Get key \n",
    "    key = event.key\n",
    "\n",
    "    if key == 'n':\n",
    "        change_image()\n",
    "        \n",
    "    elif key == 'c':\n",
    "         # save to clip board\n",
    "        pyperclip.copy(str(rgb))\n",
    "        \n",
    "        # add to list of colours\n",
    "        colours.append(rgb)\n",
    "        \n",
    "        change_choice()"
   ]
  },
  {
   "cell_type": "code",
   "execution_count": 46,
   "metadata": {},
   "outputs": [],
   "source": [
    "def change_image():\n",
    "    global img_path\n",
    "    global img\n",
    "    global ax\n",
    "    global rgb\n",
    "    \n",
    "    # close all open plots\n",
    "    plt.close('all')\n",
    "    \n",
    "    fig,ax = plt.subplots(1,2,figsize=(10,5))\n",
    "    \n",
    "    # add an interactive widget to figure \n",
    "    cid = fig.canvas.mpl_connect('button_press_event', onclick)\n",
    "    cid2 = fig.canvas.mpl_connect('key_press_event', onpress)\n",
    "\n",
    "    # load random image\n",
    "    path = random.choice(img_path)\n",
    "    img = mpimg.imread(path)\n",
    "    \n",
    "    ax[0].imshow(img)\n",
    "    \n",
    "    # reset the colour window\n",
    "    rgb = [255,255,255]\n",
    "    change_choice()\n"
   ]
  },
  {
   "cell_type": "code",
   "execution_count": 47,
   "metadata": {},
   "outputs": [],
   "source": [
    "def change_choice():\n",
    "    global img\n",
    "    global ax\n",
    "    global colours\n",
    "    global rgb\n",
    "    \n",
    "    # remove previous count\n",
    "    for txt in ax[1].texts:\n",
    "        txt.set_visible(False)\n",
    "    \n",
    "    # create array of colour choice\n",
    "    dims = np.shape(img)\n",
    "    col = np.array([[rgb]*dims[0]]*dims[1])\n",
    "    ax[1].imshow(col)\n",
    "    \n",
    "    # update colour count\n",
    "    ax[1].text(0, 15, len(colours),color='r',size=20)\n",
    "    \n",
    "    plt.show()"
   ]
  },
  {
   "cell_type": "code",
   "execution_count": 54,
   "metadata": {},
   "outputs": [],
   "source": [
    "%matplotlib tk\n",
    "global img_path\n",
    "global colours\n",
    "colours = []\n",
    "\n",
    "# load image paths\n",
    "img_path = glob.glob(data + \"*.jpg\")\n",
    "\n",
    "# start widget\n",
    "change_image()"
   ]
  },
  {
   "cell_type": "code",
   "execution_count": 53,
   "metadata": {},
   "outputs": [
    {
     "data": {
      "text/plain": [
       "[array([242,  98,  45], dtype=uint8),\n",
       " array([1, 1, 1], dtype=uint8),\n",
       " array([  3,  47, 136], dtype=uint8),\n",
       " array([129, 142,  70], dtype=uint8),\n",
       " array([251, 120,   2], dtype=uint8),\n",
       " array([161,  86, 106], dtype=uint8)]"
      ]
     },
     "execution_count": 53,
     "metadata": {},
     "output_type": "execute_result"
    }
   ],
   "source": [
    "colours"
   ]
  },
  {
   "cell_type": "code",
   "execution_count": null,
   "metadata": {},
   "outputs": [],
   "source": []
  }
 ],
 "metadata": {
  "kernelspec": {
   "display_name": "ml",
   "language": "python",
   "name": "python3"
  },
  "language_info": {
   "codemirror_mode": {
    "name": "ipython",
    "version": 3
   },
   "file_extension": ".py",
   "mimetype": "text/x-python",
   "name": "python",
   "nbconvert_exporter": "python",
   "pygments_lexer": "ipython3",
   "version": "3.9.16"
  }
 },
 "nbformat": 4,
 "nbformat_minor": 2
}
