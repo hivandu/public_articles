{
 "cells": [
  {
   "cell_type": "markdown",
   "id": "321d2991",
   "metadata": {},
   "source": [
    "# Pnadas 时间序列函数"
   ]
  },
  {
   "cell_type": "code",
   "execution_count": 1,
   "id": "28604ce4",
   "metadata": {},
   "outputs": [],
   "source": [
    "import pandas as pd\n",
    "import numpy as np"
   ]
  },
  {
   "cell_type": "code",
   "execution_count": 16,
   "id": "b633ffc0",
   "metadata": {},
   "outputs": [
    {
     "name": "stdout",
     "output_type": "stream",
     "text": [
      "        date  value\n",
      "0 2025-01-01     10\n",
      "1 2025-01-02     15\n",
      "2 2025-03-01     20\n",
      "3 2025-04-01     25\n",
      "4 2025-01-05     30\n"
     ]
    }
   ],
   "source": [
    "# Sample data with messy date formats\n",
    "data = {'date': ['2025-01-01', 'Jan 2, 2025', '03/01/2025', '2025-04-01', '1/5/25'],\n",
    "        'value': [10, 15, 20, 25, 30]}\n",
    "df = pd.DataFrame(data)\n",
    "\n",
    "# Convert the 'date' column to datetime objects\n",
    "df['date'] = pd.to_datetime(df['date'], format='mixed')\n",
    "print(df)"
   ]
  },
  {
   "cell_type": "code",
   "execution_count": 17,
   "id": "45ee0f76",
   "metadata": {},
   "outputs": [
    {
     "name": "stdout",
     "output_type": "stream",
     "text": [
      "            value\n",
      "date             \n",
      "2025-01-01     10\n",
      "2025-01-02     15\n",
      "2025-03-01     20\n",
      "2025-04-01     25\n",
      "2025-01-05     30\n",
      "DatetimeIndex(['2025-01-01', '2025-01-02', '2025-01-03', '2025-01-04',\n",
      "               '2025-01-05'],\n",
      "              dtype='datetime64[ns]', freq='D')\n"
     ]
    }
   ],
   "source": [
    "# Set the 'date' column as the index\n",
    "df.set_index('date', inplace=True)\n",
    "print(df)\n",
    "\n",
    "# Bonus: create a DatetimeIndex directly\n",
    "df_dates = pd.date_range(start='2025-01-01', periods=5, freq='D')\n",
    "print(df_dates)"
   ]
  },
  {
   "cell_type": "code",
   "execution_count": 18,
   "id": "ff1c5401",
   "metadata": {},
   "outputs": [
    {
     "name": "stdout",
     "output_type": "stream",
     "text": [
      "            sales\n",
      "2025-01-05  106.0\n",
      "2025-01-12  129.0\n"
     ]
    }
   ],
   "source": [
    "# Create a daily sales time series\n",
    "daily_sales = pd.DataFrame({\n",
    "    'sales': [100, 110, 120, 95, 105, 130, 140, 115, 125, 135]\n",
    "}, index=pd.date_range(start='2025-01-01', periods=10, freq='D'))\n",
    "\n",
    "# Resample to weekly averages\n",
    "weekly_sales = daily_sales.resample('W').mean()\n",
    "print(weekly_sales)"
   ]
  },
  {
   "cell_type": "code",
   "execution_count": 19,
   "id": "826a10ee",
   "metadata": {},
   "outputs": [
    {
     "name": "stdout",
     "output_type": "stream",
     "text": [
      "            sales  sales_lag1\n",
      "2025-01-01    100         NaN\n",
      "2025-01-02    110       100.0\n",
      "2025-01-03    120       110.0\n",
      "2025-01-04     95       120.0\n",
      "2025-01-05    105        95.0\n",
      "2025-01-06    130       105.0\n",
      "2025-01-07    140       130.0\n",
      "2025-01-08    115       140.0\n",
      "2025-01-09    125       115.0\n",
      "2025-01-10    135       125.0\n"
     ]
    }
   ],
   "source": [
    "# Shift the sales data to create a 'lagged' column\n",
    "daily_sales['sales_lag1'] = daily_sales['sales'].shift(1)\n",
    "print(daily_sales)"
   ]
  },
  {
   "cell_type": "code",
   "execution_count": 20,
   "id": "cf909eea",
   "metadata": {},
   "outputs": [
    {
     "name": "stdout",
     "output_type": "stream",
     "text": [
      "            sales  sales_lag1  rolling_mean_3d\n",
      "2025-01-01    100         NaN              NaN\n",
      "2025-01-02    110       100.0              NaN\n",
      "2025-01-03    120       110.0       110.000000\n",
      "2025-01-04     95       120.0       108.333333\n",
      "2025-01-05    105        95.0       106.666667\n",
      "2025-01-06    130       105.0       110.000000\n",
      "2025-01-07    140       130.0       125.000000\n",
      "2025-01-08    115       140.0       128.333333\n",
      "2025-01-09    125       115.0       126.666667\n",
      "2025-01-10    135       125.0       125.000000\n"
     ]
    }
   ],
   "source": [
    "# Calculate a 3-day rolling mean\n",
    "daily_sales['rolling_mean_3d'] = daily_sales['sales'].rolling(window=3).mean()\n",
    "print(daily_sales)"
   ]
  },
  {
   "cell_type": "code",
   "execution_count": 21,
   "id": "6cbf9106",
   "metadata": {},
   "outputs": [
    {
     "name": "stdout",
     "output_type": "stream",
     "text": [
      "            sales  sales_lag1  rolling_mean_3d  cumulative_sum\n",
      "2025-01-01    100         NaN              NaN           100.0\n",
      "2025-01-02    110       100.0              NaN           210.0\n",
      "2025-01-03    120       110.0       110.000000           330.0\n",
      "2025-01-04     95       120.0       108.333333           425.0\n",
      "2025-01-05    105        95.0       106.666667           530.0\n",
      "2025-01-06    130       105.0       110.000000           660.0\n",
      "2025-01-07    140       130.0       125.000000           800.0\n",
      "2025-01-08    115       140.0       128.333333           915.0\n",
      "2025-01-09    125       115.0       126.666667          1040.0\n",
      "2025-01-10    135       125.0       125.000000          1175.0\n"
     ]
    }
   ],
   "source": [
    "# Calculate the cumulative sum of sales\n",
    "daily_sales['cumulative_sum'] = daily_sales['sales'].expanding().sum()\n",
    "print(daily_sales)"
   ]
  },
  {
   "cell_type": "code",
   "execution_count": 22,
   "id": "adee1566",
   "metadata": {},
   "outputs": [
    {
     "data": {
      "text/html": [
       "<div>\n",
       "<style scoped>\n",
       "    .dataframe tbody tr th:only-of-type {\n",
       "        vertical-align: middle;\n",
       "    }\n",
       "\n",
       "    .dataframe tbody tr th {\n",
       "        vertical-align: top;\n",
       "    }\n",
       "\n",
       "    .dataframe thead th {\n",
       "        text-align: right;\n",
       "    }\n",
       "</style>\n",
       "<table border=\"1\" class=\"dataframe\">\n",
       "  <thead>\n",
       "    <tr style=\"text-align: right;\">\n",
       "      <th></th>\n",
       "      <th>sales</th>\n",
       "    </tr>\n",
       "  </thead>\n",
       "  <tbody>\n",
       "    <tr>\n",
       "      <th>2025-02-18</th>\n",
       "      <td>164</td>\n",
       "    </tr>\n",
       "    <tr>\n",
       "      <th>2025-08-24</th>\n",
       "      <td>56</td>\n",
       "    </tr>\n",
       "    <tr>\n",
       "      <th>2025-09-07</th>\n",
       "      <td>153</td>\n",
       "    </tr>\n",
       "  </tbody>\n",
       "</table>\n",
       "</div>"
      ],
      "text/plain": [
       "            sales\n",
       "2025-02-18    164\n",
       "2025-08-24     56\n",
       "2025-09-07    153"
      ]
     },
     "execution_count": 22,
     "metadata": {},
     "output_type": "execute_result"
    }
   ],
   "source": [
    "# Let's create a larger dataset for this demo\n",
    "long_term_sales = pd.DataFrame({'sales': np.random.randint(50, 200, size=365)},\n",
    "                               index=pd.date_range(start='2025-01-01',\n",
    "                                                   periods=365, freq='D'))\n",
    "long_term_sales.sample(3)"
   ]
  },
  {
   "cell_type": "code",
   "execution_count": 23,
   "id": "facdf9d8",
   "metadata": {},
   "outputs": [
    {
     "name": "stdout",
     "output_type": "stream",
     "text": [
      "            sales\n",
      "2025-05-01     51\n",
      "2025-05-02     84\n",
      "2025-05-03    188\n",
      "2025-05-04    123\n",
      "2025-05-05     86\n",
      "2025-05-06    175\n",
      "2025-05-07     96\n",
      "2025-05-08    167\n",
      "2025-05-09    113\n",
      "2025-05-10    192\n",
      "2025-05-11    191\n",
      "2025-05-12    104\n",
      "2025-05-13    158\n",
      "2025-05-14    197\n",
      "2025-05-15    109\n",
      "2025-05-16    105\n",
      "2025-05-17    187\n",
      "2025-05-18     65\n",
      "2025-05-19    100\n",
      "2025-05-20    158\n",
      "2025-05-21     69\n",
      "2025-05-22    109\n",
      "2025-05-23    158\n",
      "2025-05-24    146\n",
      "2025-05-25    176\n",
      "2025-05-26    188\n",
      "2025-05-27     50\n",
      "2025-05-28    139\n",
      "2025-05-29    186\n",
      "2025-05-30     72\n",
      "2025-05-31     58\n",
      "---\n",
      "\n",
      "            sales\n",
      "2025-07-01    153\n",
      "2025-07-02    103\n",
      "2025-07-03     80\n",
      "2025-07-04     62\n",
      "2025-07-05    127\n",
      "2025-07-06    187\n",
      "2025-07-07    144\n"
     ]
    }
   ],
   "source": [
    "# Let's create a larger dataset for this demo\n",
    "long_term_sales = pd.DataFrame({'sales': np.random.randint(50, 200, size=365)},\n",
    "                               index=pd.date_range(start='2025-01-01',\n",
    "                                                   periods=365, freq='D'))\n",
    "\n",
    "# Select all data from a specific month\n",
    "may_sales = long_term_sales.loc['2025-05']\n",
    "print(may_sales)\n",
    "\n",
    "print('---\\n')\n",
    "\n",
    "# Select a specific date range\n",
    "early_july = long_term_sales['2025-07-01':'2025-07-07']\n",
    "print(early_july)"
   ]
  },
  {
   "cell_type": "code",
   "execution_count": 24,
   "id": "3ad7e750",
   "metadata": {},
   "outputs": [
    {
     "name": "stdout",
     "output_type": "stream",
     "text": [
      "2025-01-01    10.0\n",
      "2025-01-02    21.0\n",
      "2025-01-03    21.0\n",
      "2025-01-04    21.0\n",
      "2025-01-05    40.0\n",
      "Freq: D, dtype: float64\n"
     ]
    }
   ],
   "source": [
    "# Create a series with a missing date\n",
    "sales_with_gap = pd.Series([10, 21, np.nan, 40],\n",
    "                           index=pd.to_datetime(['2025-01-01', '2025-01-02', '2025-01-04', '2025-01-05']))\n",
    "\n",
    "# Fill the gap by enforcing daily frequency and forward filling\n",
    "filled_sales = sales_with_gap.asfreq('D').ffill()\n",
    "print(filled_sales)"
   ]
  },
  {
   "cell_type": "code",
   "execution_count": 25,
   "id": "2346022b",
   "metadata": {},
   "outputs": [
    {
     "name": "stdout",
     "output_type": "stream",
     "text": [
      "                           sales\n",
      "2025-01-01 05:00:00-05:00    100\n",
      "2025-01-01 06:00:00-05:00    120\n"
     ]
    }
   ],
   "source": [
    "# Create a naive time series\n",
    "utc_naive_sales = pd.DataFrame({\n",
    "    'sales': [100, 120]\n",
    "}, index=pd.to_datetime(['2025-01-01 10:00', '2025-01-01 11:00']))\n",
    "\n",
    "# Localize to UTC and then convert to 'US/Eastern'\n",
    "eastern_sales = utc_naive_sales.tz_localize('UTC').tz_convert('US/Eastern')\n",
    "print(eastern_sales)"
   ]
  },
  {
   "cell_type": "code",
   "execution_count": 26,
   "id": "2cc19fcb",
   "metadata": {},
   "outputs": [
    {
     "name": "stdout",
     "output_type": "stream",
     "text": [
      "2025-08-29 00:00:00\n"
     ]
    }
   ],
   "source": [
    "from pandas.tseries.offsets import BMonthEnd\n",
    "\n",
    "# Find the next business month end\n",
    "next_month_end = pd.to_datetime('2025-08-20') + BMonthEnd()\n",
    "print(next_month_end)"
   ]
  },
  {
   "cell_type": "code",
   "execution_count": null,
   "id": "d95380ce",
   "metadata": {},
   "outputs": [],
   "source": []
  }
 ],
 "metadata": {
  "kernelspec": {
   "display_name": "ml",
   "language": "python",
   "name": "python3"
  },
  "language_info": {
   "codemirror_mode": {
    "name": "ipython",
    "version": 3
   },
   "file_extension": ".py",
   "mimetype": "text/x-python",
   "name": "python",
   "nbconvert_exporter": "python",
   "pygments_lexer": "ipython3",
   "version": "3.9.16"
  }
 },
 "nbformat": 4,
 "nbformat_minor": 5
}
