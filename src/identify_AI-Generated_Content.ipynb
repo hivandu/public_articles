{
 "cells": [
  {
   "cell_type": "markdown",
   "metadata": {},
   "source": [
    "# Identify AI-Generated Content"
   ]
  },
  {
   "cell_type": "code",
   "execution_count": 1,
   "metadata": {},
   "outputs": [],
   "source": [
    "import re\n",
    "import math\n",
    "from collections import Counter\n",
    "from typing import List"
   ]
  },
  {
   "cell_type": "code",
   "execution_count": 2,
   "metadata": {},
   "outputs": [],
   "source": [
    "def calculate_entropy(text: str) -> float:\n",
    "    text = re.sub(r'[^\\w\\s]', '', text.lower())\n",
    "    text = re.sub(r'\\s+', ' ', text).strip()\n",
    "    if not text:\n",
    "        return 0.0\n",
    "    probabilities = [freq / len(text) for freq in Counter(text).values()]\n",
    "    entropy = -sum(p * math.log2(p) for p in probabilities)\n",
    "    return entropy"
   ]
  },
  {
   "cell_type": "code",
   "execution_count": 3,
   "metadata": {},
   "outputs": [],
   "source": [
    "def detect_ai_patterns(text: str) -> bool:\n",
    "    common_phrases = [\n",
    "        \"In conclusion,\", \"However,\", \"On the other hand,\",\n",
    "        \"In summary,\", \"As a result,\", \"Therefore,\", \n",
    "        \"It is important to note that\", \"For instance,\",\n",
    "        \"Moreover,\", \"Consequently,\"\n",
    "    ]\n",
    "    for phrase in common_phrases:\n",
    "        if phrase in text:\n",
    "            return True\n",
    "    return False"
   ]
  },
  {
   "cell_type": "code",
   "execution_count": null,
   "metadata": {},
   "outputs": [],
   "source": [
    "def is_ai_generated(text: str) -> str:\n",
    "    entropy = calculate_entropy(text)\n",
    "    ai_patterns = detect_ai_patterns(text)\n",
    "\n",
    "    if entropy > 3.5:\n",
    "        return \"High chance of being AI-generated based on entropy.\"\n",
    "    elif ai_patterns:\n",
    "        return \"Likely AI-generated due to detected linguistic patterns.\"\n",
    "    else:\n",
    "        return \"Unlikely to be AI-generated.\""
   ]
  },
  {
   "cell_type": "code",
   "execution_count": 8,
   "metadata": {},
   "outputs": [],
   "source": [
    "def is_ai_generated_cn(text: str) -> str:\n",
    "    entropy = calculate_entropy(text)\n",
    "    ai_patterns = detect_ai_patterns(text)\n",
    "\n",
    "    if entropy > 3.5:\n",
    "        return \"根据熵值，AI 生成的可能性很高。\"\n",
    "    elif ai_patterns:\n",
    "        return \"很可能是人工智能根据检测到的语言模式生成的。\"\n",
    "    else:\n",
    "        return \"不太可能是人工智能生成的。\""
   ]
  },
  {
   "cell_type": "code",
   "execution_count": 6,
   "metadata": {},
   "outputs": [
    {
     "name": "stdout",
     "output_type": "stream",
     "text": [
      "\n",
      "Analysis Result: High chance of being AI-generated based on entropy.\n"
     ]
    }
   ],
   "source": [
    "sample_text = input(\"Enter the text to analyze: \")\n",
    "result = is_ai_generated(sample_text)\n",
    "print()\n",
    "print(f\"Analysis Result: {result}\")"
   ]
  },
  {
   "cell_type": "code",
   "execution_count": 15,
   "metadata": {},
   "outputs": [
    {
     "name": "stdout",
     "output_type": "stream",
     "text": [
      "\n",
      "分析结果：不太可能是人工智能生成的。 \n"
     ]
    }
   ],
   "source": [
    "sample_text = input ( \"输入要分析的文本： \" ) \n",
    "result = is_ai_generated_cn(sample_text) \n",
    "print () \n",
    "print ( f\"分析结果：{result} \" )"
   ]
  },
  {
   "cell_type": "code",
   "execution_count": null,
   "metadata": {},
   "outputs": [],
   "source": []
  }
 ],
 "metadata": {
  "kernelspec": {
   "display_name": "ml",
   "language": "python",
   "name": "python3"
  },
  "language_info": {
   "codemirror_mode": {
    "name": "ipython",
    "version": 3
   },
   "file_extension": ".py",
   "mimetype": "text/x-python",
   "name": "python",
   "nbconvert_exporter": "python",
   "pygments_lexer": "ipython3",
   "version": "3.9.16"
  }
 },
 "nbformat": 4,
 "nbformat_minor": 2
}
